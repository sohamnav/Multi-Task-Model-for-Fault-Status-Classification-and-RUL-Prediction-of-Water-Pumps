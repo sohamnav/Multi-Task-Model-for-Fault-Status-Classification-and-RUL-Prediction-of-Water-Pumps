{
  "nbformat": 4,
  "nbformat_minor": 0,
  "metadata": {
    "colab": {
      "provenance": []
    },
    "kernelspec": {
      "name": "python3",
      "display_name": "Python 3"
    },
    "language_info": {
      "name": "python"
    }
  },
  "cells": [
    {
      "cell_type": "code",
      "execution_count": null,
      "metadata": {
        "id": "EFqMFhdcutT-"
      },
      "outputs": [],
      "source": [
        "import numpy as np\n",
        "import pandas as pd"
      ]
    },
    {
      "cell_type": "code",
      "source": [
        "!pip install tensorflow==2.9.0"
      ],
      "metadata": {
        "colab": {
          "base_uri": "https://localhost:8080/",
          "height": 1000
        },
        "id": "D6Yh6YK9q2oQ",
        "outputId": "73f3aa72-9e4c-4f84-9886-4605dd54c5c6"
      },
      "execution_count": null,
      "outputs": [
        {
          "output_type": "stream",
          "name": "stdout",
          "text": [
            "Collecting tensorflow==2.9.0\n",
            "  Downloading tensorflow-2.9.0-cp310-cp310-manylinux_2_17_x86_64.manylinux2014_x86_64.whl (511.7 MB)\n",
            "\u001b[2K     \u001b[90m━━━━━━━━━━━━━━━━━━━━━━━━━━━━━━━━━━━━━━━━\u001b[0m \u001b[32m511.7/511.7 MB\u001b[0m \u001b[31m2.8 MB/s\u001b[0m eta \u001b[36m0:00:00\u001b[0m\n",
            "\u001b[?25hRequirement already satisfied: absl-py>=1.0.0 in /usr/local/lib/python3.10/dist-packages (from tensorflow==2.9.0) (1.4.0)\n",
            "Requirement already satisfied: astunparse>=1.6.0 in /usr/local/lib/python3.10/dist-packages (from tensorflow==2.9.0) (1.6.3)\n",
            "Collecting flatbuffers<2,>=1.12 (from tensorflow==2.9.0)\n",
            "  Downloading flatbuffers-1.12-py2.py3-none-any.whl (15 kB)\n",
            "Collecting gast<=0.4.0,>=0.2.1 (from tensorflow==2.9.0)\n",
            "  Downloading gast-0.4.0-py3-none-any.whl (9.8 kB)\n",
            "Requirement already satisfied: google-pasta>=0.1.1 in /usr/local/lib/python3.10/dist-packages (from tensorflow==2.9.0) (0.2.0)\n",
            "Requirement already satisfied: grpcio<2.0,>=1.24.3 in /usr/local/lib/python3.10/dist-packages (from tensorflow==2.9.0) (1.59.2)\n",
            "Requirement already satisfied: h5py>=2.9.0 in /usr/local/lib/python3.10/dist-packages (from tensorflow==2.9.0) (3.9.0)\n",
            "Collecting keras<2.10.0,>=2.9.0rc0 (from tensorflow==2.9.0)\n",
            "  Downloading keras-2.9.0-py2.py3-none-any.whl (1.6 MB)\n",
            "\u001b[2K     \u001b[90m━━━━━━━━━━━━━━━━━━━━━━━━━━━━━━━━━━━━━━━━\u001b[0m \u001b[32m1.6/1.6 MB\u001b[0m \u001b[31m47.6 MB/s\u001b[0m eta \u001b[36m0:00:00\u001b[0m\n",
            "\u001b[?25hCollecting keras-preprocessing>=1.1.1 (from tensorflow==2.9.0)\n",
            "  Downloading Keras_Preprocessing-1.1.2-py2.py3-none-any.whl (42 kB)\n",
            "\u001b[2K     \u001b[90m━━━━━━━━━━━━━━━━━━━━━━━━━━━━━━━━━━━━━━━━\u001b[0m \u001b[32m42.6/42.6 kB\u001b[0m \u001b[31m5.7 MB/s\u001b[0m eta \u001b[36m0:00:00\u001b[0m\n",
            "\u001b[?25hRequirement already satisfied: libclang>=13.0.0 in /usr/local/lib/python3.10/dist-packages (from tensorflow==2.9.0) (16.0.6)\n",
            "Requirement already satisfied: numpy>=1.20 in /usr/local/lib/python3.10/dist-packages (from tensorflow==2.9.0) (1.23.5)\n",
            "Requirement already satisfied: opt-einsum>=2.3.2 in /usr/local/lib/python3.10/dist-packages (from tensorflow==2.9.0) (3.3.0)\n",
            "Requirement already satisfied: packaging in /usr/local/lib/python3.10/dist-packages (from tensorflow==2.9.0) (23.2)\n",
            "Requirement already satisfied: protobuf>=3.9.2 in /usr/local/lib/python3.10/dist-packages (from tensorflow==2.9.0) (3.20.3)\n",
            "Requirement already satisfied: setuptools in /usr/local/lib/python3.10/dist-packages (from tensorflow==2.9.0) (67.7.2)\n",
            "Requirement already satisfied: six>=1.12.0 in /usr/local/lib/python3.10/dist-packages (from tensorflow==2.9.0) (1.16.0)\n",
            "Collecting tensorboard<2.10,>=2.9 (from tensorflow==2.9.0)\n",
            "  Downloading tensorboard-2.9.1-py3-none-any.whl (5.8 MB)\n",
            "\u001b[2K     \u001b[90m━━━━━━━━━━━━━━━━━━━━━━━━━━━━━━━━━━━━━━━━\u001b[0m \u001b[32m5.8/5.8 MB\u001b[0m \u001b[31m32.8 MB/s\u001b[0m eta \u001b[36m0:00:00\u001b[0m\n",
            "\u001b[?25hRequirement already satisfied: tensorflow-io-gcs-filesystem>=0.23.1 in /usr/local/lib/python3.10/dist-packages (from tensorflow==2.9.0) (0.34.0)\n",
            "Collecting tensorflow-estimator<2.10.0,>=2.9.0rc0 (from tensorflow==2.9.0)\n",
            "  Downloading tensorflow_estimator-2.9.0-py2.py3-none-any.whl (438 kB)\n",
            "\u001b[2K     \u001b[90m━━━━━━━━━━━━━━━━━━━━━━━━━━━━━━━━━━━━━━━━\u001b[0m \u001b[32m438.7/438.7 kB\u001b[0m \u001b[31m30.0 MB/s\u001b[0m eta \u001b[36m0:00:00\u001b[0m\n",
            "\u001b[?25hRequirement already satisfied: termcolor>=1.1.0 in /usr/local/lib/python3.10/dist-packages (from tensorflow==2.9.0) (2.3.0)\n",
            "Requirement already satisfied: typing-extensions>=3.6.6 in /usr/local/lib/python3.10/dist-packages (from tensorflow==2.9.0) (4.5.0)\n",
            "Requirement already satisfied: wrapt>=1.11.0 in /usr/local/lib/python3.10/dist-packages (from tensorflow==2.9.0) (1.14.1)\n",
            "Requirement already satisfied: wheel<1.0,>=0.23.0 in /usr/local/lib/python3.10/dist-packages (from astunparse>=1.6.0->tensorflow==2.9.0) (0.41.3)\n",
            "Requirement already satisfied: google-auth<3,>=1.6.3 in /usr/local/lib/python3.10/dist-packages (from tensorboard<2.10,>=2.9->tensorflow==2.9.0) (2.17.3)\n",
            "Collecting google-auth-oauthlib<0.5,>=0.4.1 (from tensorboard<2.10,>=2.9->tensorflow==2.9.0)\n",
            "  Downloading google_auth_oauthlib-0.4.6-py2.py3-none-any.whl (18 kB)\n",
            "Requirement already satisfied: markdown>=2.6.8 in /usr/local/lib/python3.10/dist-packages (from tensorboard<2.10,>=2.9->tensorflow==2.9.0) (3.5.1)\n",
            "Collecting protobuf>=3.9.2 (from tensorflow==2.9.0)\n",
            "  Downloading protobuf-3.19.6-cp310-cp310-manylinux_2_17_x86_64.manylinux2014_x86_64.whl (1.1 MB)\n",
            "\u001b[2K     \u001b[90m━━━━━━━━━━━━━━━━━━━━━━━━━━━━━━━━━━━━━━━━\u001b[0m \u001b[32m1.1/1.1 MB\u001b[0m \u001b[31m22.8 MB/s\u001b[0m eta \u001b[36m0:00:00\u001b[0m\n",
            "\u001b[?25hRequirement already satisfied: requests<3,>=2.21.0 in /usr/local/lib/python3.10/dist-packages (from tensorboard<2.10,>=2.9->tensorflow==2.9.0) (2.31.0)\n",
            "Collecting tensorboard-data-server<0.7.0,>=0.6.0 (from tensorboard<2.10,>=2.9->tensorflow==2.9.0)\n",
            "  Downloading tensorboard_data_server-0.6.1-py3-none-manylinux2010_x86_64.whl (4.9 MB)\n",
            "\u001b[2K     \u001b[90m━━━━━━━━━━━━━━━━━━━━━━━━━━━━━━━━━━━━━━━━\u001b[0m \u001b[32m4.9/4.9 MB\u001b[0m \u001b[31m19.8 MB/s\u001b[0m eta \u001b[36m0:00:00\u001b[0m\n",
            "\u001b[?25hCollecting tensorboard-plugin-wit>=1.6.0 (from tensorboard<2.10,>=2.9->tensorflow==2.9.0)\n",
            "  Downloading tensorboard_plugin_wit-1.8.1-py3-none-any.whl (781 kB)\n",
            "\u001b[2K     \u001b[90m━━━━━━━━━━━━━━━━━━━━━━━━━━━━━━━━━━━━━━━━\u001b[0m \u001b[32m781.3/781.3 kB\u001b[0m \u001b[31m42.7 MB/s\u001b[0m eta \u001b[36m0:00:00\u001b[0m\n",
            "\u001b[?25hRequirement already satisfied: werkzeug>=1.0.1 in /usr/local/lib/python3.10/dist-packages (from tensorboard<2.10,>=2.9->tensorflow==2.9.0) (3.0.1)\n",
            "Requirement already satisfied: cachetools<6.0,>=2.0.0 in /usr/local/lib/python3.10/dist-packages (from google-auth<3,>=1.6.3->tensorboard<2.10,>=2.9->tensorflow==2.9.0) (5.3.2)\n",
            "Requirement already satisfied: pyasn1-modules>=0.2.1 in /usr/local/lib/python3.10/dist-packages (from google-auth<3,>=1.6.3->tensorboard<2.10,>=2.9->tensorflow==2.9.0) (0.3.0)\n",
            "Requirement already satisfied: rsa<5,>=3.1.4 in /usr/local/lib/python3.10/dist-packages (from google-auth<3,>=1.6.3->tensorboard<2.10,>=2.9->tensorflow==2.9.0) (4.9)\n",
            "Requirement already satisfied: requests-oauthlib>=0.7.0 in /usr/local/lib/python3.10/dist-packages (from google-auth-oauthlib<0.5,>=0.4.1->tensorboard<2.10,>=2.9->tensorflow==2.9.0) (1.3.1)\n",
            "Requirement already satisfied: charset-normalizer<4,>=2 in /usr/local/lib/python3.10/dist-packages (from requests<3,>=2.21.0->tensorboard<2.10,>=2.9->tensorflow==2.9.0) (3.3.2)\n",
            "Requirement already satisfied: idna<4,>=2.5 in /usr/local/lib/python3.10/dist-packages (from requests<3,>=2.21.0->tensorboard<2.10,>=2.9->tensorflow==2.9.0) (3.4)\n",
            "Requirement already satisfied: urllib3<3,>=1.21.1 in /usr/local/lib/python3.10/dist-packages (from requests<3,>=2.21.0->tensorboard<2.10,>=2.9->tensorflow==2.9.0) (2.0.7)\n",
            "Requirement already satisfied: certifi>=2017.4.17 in /usr/local/lib/python3.10/dist-packages (from requests<3,>=2.21.0->tensorboard<2.10,>=2.9->tensorflow==2.9.0) (2023.7.22)\n",
            "Requirement already satisfied: MarkupSafe>=2.1.1 in /usr/local/lib/python3.10/dist-packages (from werkzeug>=1.0.1->tensorboard<2.10,>=2.9->tensorflow==2.9.0) (2.1.3)\n",
            "Requirement already satisfied: pyasn1<0.6.0,>=0.4.6 in /usr/local/lib/python3.10/dist-packages (from pyasn1-modules>=0.2.1->google-auth<3,>=1.6.3->tensorboard<2.10,>=2.9->tensorflow==2.9.0) (0.5.0)\n",
            "Requirement already satisfied: oauthlib>=3.0.0 in /usr/local/lib/python3.10/dist-packages (from requests-oauthlib>=0.7.0->google-auth-oauthlib<0.5,>=0.4.1->tensorboard<2.10,>=2.9->tensorflow==2.9.0) (3.2.2)\n",
            "Installing collected packages: tensorboard-plugin-wit, keras, flatbuffers, tensorflow-estimator, tensorboard-data-server, protobuf, keras-preprocessing, gast, google-auth-oauthlib, tensorboard, tensorflow\n",
            "  Attempting uninstall: keras\n",
            "    Found existing installation: keras 2.14.0\n",
            "    Uninstalling keras-2.14.0:\n",
            "      Successfully uninstalled keras-2.14.0\n",
            "  Attempting uninstall: flatbuffers\n",
            "    Found existing installation: flatbuffers 23.5.26\n",
            "    Uninstalling flatbuffers-23.5.26:\n",
            "      Successfully uninstalled flatbuffers-23.5.26\n",
            "  Attempting uninstall: tensorflow-estimator\n",
            "    Found existing installation: tensorflow-estimator 2.14.0\n",
            "    Uninstalling tensorflow-estimator-2.14.0:\n",
            "      Successfully uninstalled tensorflow-estimator-2.14.0\n",
            "  Attempting uninstall: tensorboard-data-server\n",
            "    Found existing installation: tensorboard-data-server 0.7.2\n",
            "    Uninstalling tensorboard-data-server-0.7.2:\n",
            "      Successfully uninstalled tensorboard-data-server-0.7.2\n",
            "  Attempting uninstall: protobuf\n",
            "    Found existing installation: protobuf 3.20.3\n",
            "    Uninstalling protobuf-3.20.3:\n",
            "      Successfully uninstalled protobuf-3.20.3\n",
            "  Attempting uninstall: gast\n",
            "    Found existing installation: gast 0.5.4\n",
            "    Uninstalling gast-0.5.4:\n",
            "      Successfully uninstalled gast-0.5.4\n",
            "  Attempting uninstall: google-auth-oauthlib\n",
            "    Found existing installation: google-auth-oauthlib 1.0.0\n",
            "    Uninstalling google-auth-oauthlib-1.0.0:\n",
            "      Successfully uninstalled google-auth-oauthlib-1.0.0\n",
            "  Attempting uninstall: tensorboard\n",
            "    Found existing installation: tensorboard 2.14.1\n",
            "    Uninstalling tensorboard-2.14.1:\n",
            "      Successfully uninstalled tensorboard-2.14.1\n",
            "  Attempting uninstall: tensorflow\n",
            "    Found existing installation: tensorflow 2.14.0\n",
            "    Uninstalling tensorflow-2.14.0:\n",
            "      Successfully uninstalled tensorflow-2.14.0\n",
            "\u001b[31mERROR: pip's dependency resolver does not currently take into account all the packages that are installed. This behaviour is the source of the following dependency conflicts.\n",
            "tensorflow-datasets 4.9.3 requires protobuf>=3.20, but you have protobuf 3.19.6 which is incompatible.\n",
            "tensorflow-metadata 1.14.0 requires protobuf<4.21,>=3.20.3, but you have protobuf 3.19.6 which is incompatible.\u001b[0m\u001b[31m\n",
            "\u001b[0mSuccessfully installed flatbuffers-1.12 gast-0.4.0 google-auth-oauthlib-0.4.6 keras-2.9.0 keras-preprocessing-1.1.2 protobuf-3.19.6 tensorboard-2.9.1 tensorboard-data-server-0.6.1 tensorboard-plugin-wit-1.8.1 tensorflow-2.9.0 tensorflow-estimator-2.9.0\n"
          ]
        },
        {
          "output_type": "display_data",
          "data": {
            "application/vnd.colab-display-data+json": {
              "pip_warning": {
                "packages": [
                  "google"
                ]
              }
            }
          },
          "metadata": {}
        }
      ]
    },
    {
      "cell_type": "markdown",
      "source": [
        "# Loading dataset into notebook"
      ],
      "metadata": {
        "id": "Swyuor2t74_v"
      }
    },
    {
      "cell_type": "code",
      "source": [
        "data=pd.read_csv('/content/drive/MyDrive/SML Project Water Pumps/multitask data-water pump SML.csv')\n",
        "data.info()"
      ],
      "metadata": {
        "id": "U-hUGqpCdScW",
        "colab": {
          "base_uri": "https://localhost:8080/"
        },
        "outputId": "7865067b-8f82-4559-986f-5074d24f9480"
      },
      "execution_count": null,
      "outputs": [
        {
          "output_type": "stream",
          "name": "stdout",
          "text": [
            "<class 'pandas.core.frame.DataFrame'>\n",
            "RangeIndex: 220320 entries, 0 to 220319\n",
            "Data columns (total 57 columns):\n",
            " #   Column          Non-Null Count   Dtype  \n",
            "---  ------          --------------   -----  \n",
            " 0   Unnamed: 0.1    220320 non-null  int64  \n",
            " 1   Unnamed: 0      220320 non-null  int64  \n",
            " 2   timestamp       220320 non-null  object \n",
            " 3   sensor_00       210112 non-null  float64\n",
            " 4   sensor_01       219951 non-null  float64\n",
            " 5   sensor_02       220301 non-null  float64\n",
            " 6   sensor_03       220301 non-null  float64\n",
            " 7   sensor_04       220301 non-null  float64\n",
            " 8   sensor_05       220301 non-null  float64\n",
            " 9   sensor_06       215522 non-null  float64\n",
            " 10  sensor_07       214869 non-null  float64\n",
            " 11  sensor_08       215213 non-null  float64\n",
            " 12  sensor_09       215725 non-null  float64\n",
            " 13  sensor_10       220301 non-null  float64\n",
            " 14  sensor_11       220301 non-null  float64\n",
            " 15  sensor_12       220301 non-null  float64\n",
            " 16  sensor_13       220301 non-null  float64\n",
            " 17  sensor_14       220299 non-null  float64\n",
            " 18  sensor_15       0 non-null       float64\n",
            " 19  sensor_16       220289 non-null  float64\n",
            " 20  sensor_17       220274 non-null  float64\n",
            " 21  sensor_18       220274 non-null  float64\n",
            " 22  sensor_19       220304 non-null  float64\n",
            " 23  sensor_20       220304 non-null  float64\n",
            " 24  sensor_21       220304 non-null  float64\n",
            " 25  sensor_22       220279 non-null  float64\n",
            " 26  sensor_23       220304 non-null  float64\n",
            " 27  sensor_24       220304 non-null  float64\n",
            " 28  sensor_25       220284 non-null  float64\n",
            " 29  sensor_26       220300 non-null  float64\n",
            " 30  sensor_27       220304 non-null  float64\n",
            " 31  sensor_28       220304 non-null  float64\n",
            " 32  sensor_29       220248 non-null  float64\n",
            " 33  sensor_30       220059 non-null  float64\n",
            " 34  sensor_31       220304 non-null  float64\n",
            " 35  sensor_32       220252 non-null  float64\n",
            " 36  sensor_33       220304 non-null  float64\n",
            " 37  sensor_34       220304 non-null  float64\n",
            " 38  sensor_35       220304 non-null  float64\n",
            " 39  sensor_36       220304 non-null  float64\n",
            " 40  sensor_37       220304 non-null  float64\n",
            " 41  sensor_38       220293 non-null  float64\n",
            " 42  sensor_39       220293 non-null  float64\n",
            " 43  sensor_40       220293 non-null  float64\n",
            " 44  sensor_41       220293 non-null  float64\n",
            " 45  sensor_42       220293 non-null  float64\n",
            " 46  sensor_43       220293 non-null  float64\n",
            " 47  sensor_44       220293 non-null  float64\n",
            " 48  sensor_45       220293 non-null  float64\n",
            " 49  sensor_46       220293 non-null  float64\n",
            " 50  sensor_47       220293 non-null  float64\n",
            " 51  sensor_48       220293 non-null  float64\n",
            " 52  sensor_49       220293 non-null  float64\n",
            " 53  sensor_50       143303 non-null  float64\n",
            " 54  sensor_51       204937 non-null  float64\n",
            " 55  machine_status  220320 non-null  object \n",
            " 56  rul             166441 non-null  float64\n",
            "dtypes: float64(53), int64(2), object(2)\n",
            "memory usage: 95.8+ MB\n"
          ]
        }
      ]
    },
    {
      "cell_type": "markdown",
      "source": [
        "# Removing irrelevant columns, and columns with complete null values"
      ],
      "metadata": {
        "id": "WaVu7Mv38Axo"
      }
    },
    {
      "cell_type": "code",
      "source": [
        "data=data.drop(['Unnamed: 0.1','Unnamed: 0','sensor_15'],axis=1)\n",
        "data.info()"
      ],
      "metadata": {
        "id": "V3qsQiddd3e7",
        "colab": {
          "base_uri": "https://localhost:8080/"
        },
        "outputId": "a081ee9d-085a-45e9-c6ea-fc5de9858980"
      },
      "execution_count": null,
      "outputs": [
        {
          "output_type": "stream",
          "name": "stdout",
          "text": [
            "<class 'pandas.core.frame.DataFrame'>\n",
            "RangeIndex: 220320 entries, 0 to 220319\n",
            "Data columns (total 54 columns):\n",
            " #   Column          Non-Null Count   Dtype  \n",
            "---  ------          --------------   -----  \n",
            " 0   timestamp       220320 non-null  object \n",
            " 1   sensor_00       210112 non-null  float64\n",
            " 2   sensor_01       219951 non-null  float64\n",
            " 3   sensor_02       220301 non-null  float64\n",
            " 4   sensor_03       220301 non-null  float64\n",
            " 5   sensor_04       220301 non-null  float64\n",
            " 6   sensor_05       220301 non-null  float64\n",
            " 7   sensor_06       215522 non-null  float64\n",
            " 8   sensor_07       214869 non-null  float64\n",
            " 9   sensor_08       215213 non-null  float64\n",
            " 10  sensor_09       215725 non-null  float64\n",
            " 11  sensor_10       220301 non-null  float64\n",
            " 12  sensor_11       220301 non-null  float64\n",
            " 13  sensor_12       220301 non-null  float64\n",
            " 14  sensor_13       220301 non-null  float64\n",
            " 15  sensor_14       220299 non-null  float64\n",
            " 16  sensor_16       220289 non-null  float64\n",
            " 17  sensor_17       220274 non-null  float64\n",
            " 18  sensor_18       220274 non-null  float64\n",
            " 19  sensor_19       220304 non-null  float64\n",
            " 20  sensor_20       220304 non-null  float64\n",
            " 21  sensor_21       220304 non-null  float64\n",
            " 22  sensor_22       220279 non-null  float64\n",
            " 23  sensor_23       220304 non-null  float64\n",
            " 24  sensor_24       220304 non-null  float64\n",
            " 25  sensor_25       220284 non-null  float64\n",
            " 26  sensor_26       220300 non-null  float64\n",
            " 27  sensor_27       220304 non-null  float64\n",
            " 28  sensor_28       220304 non-null  float64\n",
            " 29  sensor_29       220248 non-null  float64\n",
            " 30  sensor_30       220059 non-null  float64\n",
            " 31  sensor_31       220304 non-null  float64\n",
            " 32  sensor_32       220252 non-null  float64\n",
            " 33  sensor_33       220304 non-null  float64\n",
            " 34  sensor_34       220304 non-null  float64\n",
            " 35  sensor_35       220304 non-null  float64\n",
            " 36  sensor_36       220304 non-null  float64\n",
            " 37  sensor_37       220304 non-null  float64\n",
            " 38  sensor_38       220293 non-null  float64\n",
            " 39  sensor_39       220293 non-null  float64\n",
            " 40  sensor_40       220293 non-null  float64\n",
            " 41  sensor_41       220293 non-null  float64\n",
            " 42  sensor_42       220293 non-null  float64\n",
            " 43  sensor_43       220293 non-null  float64\n",
            " 44  sensor_44       220293 non-null  float64\n",
            " 45  sensor_45       220293 non-null  float64\n",
            " 46  sensor_46       220293 non-null  float64\n",
            " 47  sensor_47       220293 non-null  float64\n",
            " 48  sensor_48       220293 non-null  float64\n",
            " 49  sensor_49       220293 non-null  float64\n",
            " 50  sensor_50       143303 non-null  float64\n",
            " 51  sensor_51       204937 non-null  float64\n",
            " 52  machine_status  220320 non-null  object \n",
            " 53  rul             166441 non-null  float64\n",
            "dtypes: float64(52), object(2)\n",
            "memory usage: 90.8+ MB\n"
          ]
        }
      ]
    },
    {
      "cell_type": "markdown",
      "source": [
        "# Extracting and assigning date, month, day, minute and hour from the timestamp"
      ],
      "metadata": {
        "id": "trnU3b0x9C3e"
      }
    },
    {
      "cell_type": "code",
      "source": [
        "data['timestamp']=pd.to_datetime(data['timestamp'])\n",
        "data['month']=data['timestamp'].dt.month\n",
        "data['day']=data['timestamp'].dt.day\n",
        "data['minute']=data['timestamp'].dt.minute\n",
        "data['hour']=data['timestamp'].dt.hour"
      ],
      "metadata": {
        "id": "_RJ8uyR9eTiy"
      },
      "execution_count": null,
      "outputs": []
    },
    {
      "cell_type": "code",
      "source": [
        "data['machine_status'].value_counts() #value counts of the various machine status[Normal, Broken, Recovering]"
      ],
      "metadata": {
        "colab": {
          "base_uri": "https://localhost:8080/"
        },
        "id": "a1Jb5ZTib2mw",
        "outputId": "6000f1eb-f0d8-4da3-82c7-b772fc37adc9"
      },
      "execution_count": null,
      "outputs": [
        {
          "output_type": "execute_result",
          "data": {
            "text/plain": [
              "NORMAL        205836\n",
              "RECOVERING     14477\n",
              "BROKEN             7\n",
              "Name: machine_status, dtype: int64"
            ]
          },
          "metadata": {},
          "execution_count": 6
        }
      ]
    },
    {
      "cell_type": "code",
      "source": [
        "data=data.drop(['timestamp'],axis=1) #dropping timestamp once month, day, minute and hour are extracted and assigned\n",
        "data.info()"
      ],
      "metadata": {
        "id": "_bEqPMtZehkE"
      },
      "execution_count": null,
      "outputs": []
    },
    {
      "cell_type": "markdown",
      "source": [
        "# Visualizing missing values"
      ],
      "metadata": {
        "id": "tyadReH19fwe"
      }
    },
    {
      "cell_type": "code",
      "source": [
        "import missingno as msno\n",
        "msno.matrix(data)"
      ],
      "metadata": {
        "colab": {
          "base_uri": "https://localhost:8080/",
          "height": 585
        },
        "id": "lHAqqfU3eqUl",
        "outputId": "23c024bf-80d1-47a0-da58-51efb83530e1"
      },
      "execution_count": null,
      "outputs": [
        {
          "output_type": "execute_result",
          "data": {
            "text/plain": [
              "<Axes: >"
            ]
          },
          "metadata": {},
          "execution_count": 8
        },
        {
          "output_type": "display_data",
          "data": {
            "text/plain": [
              "<Figure size 2500x1000 with 2 Axes>"
            ],
            "image/png": "[encoded data removed]"
          },
          "metadata": {}
        }
      ]
    },
    {
      "cell_type": "code",
      "source": [
        "data1=data[~(np.isnan(data['rul']))]  #dataset that has non-null values of rul\n",
        "data2=data[np.isnan(data['rul'])]  #dataset that has null values of rul"
      ],
      "metadata": {
        "id": "La65CY2kfql8"
      },
      "execution_count": null,
      "outputs": []
    },
    {
      "cell_type": "code",
      "source": [
        "data2['machine_status'].unique() #unique objects of machine status column of the null value dataset"
      ],
      "metadata": {
        "colab": {
          "base_uri": "https://localhost:8080/"
        },
        "id": "XUELRH8Xz1qt",
        "outputId": "003b697a-7ba6-434a-90aa-7a133e771e95"
      },
      "execution_count": null,
      "outputs": [
        {
          "output_type": "execute_result",
          "data": {
            "text/plain": [
              "array(['RECOVERING', 'NORMAL'], dtype=object)"
            ]
          },
          "metadata": {},
          "execution_count": 10
        }
      ]
    },
    {
      "cell_type": "code",
      "source": [
        "data1.shape,data2.shape"
      ],
      "metadata": {
        "colab": {
          "base_uri": "https://localhost:8080/"
        },
        "id": "lonKPmSTtVPu",
        "outputId": "bf2b5cf8-f192-47fd-b1be-b1be305b4bef"
      },
      "execution_count": null,
      "outputs": [
        {
          "output_type": "execute_result",
          "data": {
            "text/plain": [
              "((166441, 57), (53879, 57))"
            ]
          },
          "metadata": {},
          "execution_count": 11
        }
      ]
    },
    {
      "cell_type": "code",
      "source": [
        "from sklearn.ensemble import RandomForestRegressor\n",
        "from sklearn.impute import SimpleImputer\n",
        "from sklearn.preprocessing import LabelEncoder\n",
        "\n",
        "# Step 1: Label encode the \"machine_status\" column\n",
        "label_encoder = LabelEncoder()\n",
        "data1[\"machine_status\"] = label_encoder.fit_transform(data1[\"machine_status\"])"
      ],
      "metadata": {
        "id": "gsPuqug5fG7f",
        "colab": {
          "base_uri": "https://localhost:8080/"
        },
        "outputId": "169f04be-e37e-4911-d9bc-ea5a1ea61810"
      },
      "execution_count": null,
      "outputs": [
        {
          "output_type": "stream",
          "name": "stderr",
          "text": [
            "<ipython-input-12-7f151bdc5a71>:7: SettingWithCopyWarning: \n",
            "A value is trying to be set on a copy of a slice from a DataFrame.\n",
            "Try using .loc[row_indexer,col_indexer] = value instead\n",
            "\n",
            "See the caveats in the documentation: https://pandas.pydata.org/pandas-docs/stable/user_guide/indexing.html#returning-a-view-versus-a-copy\n",
            "  data1[\"machine_status\"] = label_encoder.fit_transform(data1[\"machine_status\"])\n"
          ]
        }
      ]
    },
    {
      "cell_type": "markdown",
      "source": [
        "# KNN Imputer for sensor 50"
      ],
      "metadata": {
        "id": "jpFY18Ft1PrF"
      }
    },
    {
      "cell_type": "code",
      "source": [
        "from sklearn.impute import KNNImputer\n",
        "imputer = KNNImputer(n_neighbors=3)\n",
        "columns_to_impute = data1.drop(['sensor_50'], axis=1)\n",
        "data1[columns_to_impute.columns] = columns_to_impute.ffill() #imputation for sensor 50 using f fill"
      ],
      "metadata": {
        "id": "w9is7xsyewur",
        "colab": {
          "base_uri": "https://localhost:8080/"
        },
        "outputId": "1c2ede41-689c-4c5c-8422-e9a4f8591dbe"
      },
      "execution_count": null,
      "outputs": [
        {
          "output_type": "stream",
          "name": "stderr",
          "text": [
            "<ipython-input-13-5bfcbe4cc390>:4: SettingWithCopyWarning: \n",
            "A value is trying to be set on a copy of a slice from a DataFrame.\n",
            "Try using .loc[row_indexer,col_indexer] = value instead\n",
            "\n",
            "See the caveats in the documentation: https://pandas.pydata.org/pandas-docs/stable/user_guide/indexing.html#returning-a-view-versus-a-copy\n",
            "  data1[columns_to_impute.columns] = columns_to_impute.ffill() #imputation for sensor 50 using f fill\n"
          ]
        }
      ]
    },
    {
      "cell_type": "markdown",
      "source": [
        "# Segragating null and non null values of the rows of sensor 50 (data1)"
      ],
      "metadata": {
        "id": "go-l9k6g1tQA"
      }
    },
    {
      "cell_type": "code",
      "source": [
        "bb=data1[np.isnan(data1['sensor_50'])]  #null values of sensor 50 of data1\n",
        "cc=data1[~np.isnan(data1['sensor_50'])]  #non-null values of sensor 50 of data1\n",
        "bb.shape,cc.shape"
      ],
      "metadata": {
        "colab": {
          "base_uri": "https://localhost:8080/"
        },
        "id": "9tKNKLnbfJzj",
        "outputId": "c4803266-7812-4b0c-9f08-651d53427cf6"
      },
      "execution_count": null,
      "outputs": [
        {
          "output_type": "execute_result",
          "data": {
            "text/plain": [
              "((23138, 57), (143303, 57))"
            ]
          },
          "metadata": {},
          "execution_count": 14
        }
      ]
    },
    {
      "cell_type": "markdown",
      "source": [
        "# Assigning dependent(y) and independent(x) variables"
      ],
      "metadata": {
        "id": "KWlSr9Ck1z5D"
      }
    },
    {
      "cell_type": "code",
      "source": [
        "y_i=cc['sensor_50'] #setting target value as sensor 50 of non null values of sensor 50\n",
        "x_i=cc.drop(['sensor_50'],axis=1)"
      ],
      "metadata": {
        "id": "KuC0Hl5PghzU"
      },
      "execution_count": null,
      "outputs": []
    },
    {
      "cell_type": "markdown",
      "source": [
        "# Using Decision tree Regressor to impute sensor 50 values"
      ],
      "metadata": {
        "id": "kiG-ps4A2AJ7"
      }
    },
    {
      "cell_type": "code",
      "source": [
        "from sklearn.model_selection import train_test_split\n",
        "from sklearn.tree import DecisionTreeRegressor\n",
        "from sklearn.metrics import mean_squared_error, mean_absolute_error, r2_score\n",
        "x_train, x_test, y_train, y_test = train_test_split(x_i,y_i, test_size=0.25, random_state=42)\n",
        "rfmodel = DecisionTreeRegressor()\n",
        "rfmodel.fit(x_train, y_train)\n",
        "o=rfmodel.predict(x_test)\n",
        "print(rfmodel.score(x_test,y_test))\n",
        "print(mean_squared_error(o,y_test))\n",
        "print(mean_absolute_error(o,y_test))\n",
        "print(r2_score(o,y_test))"
      ],
      "metadata": {
        "colab": {
          "base_uri": "https://localhost:8080/"
        },
        "id": "O0Y8xYNDgj0o",
        "outputId": "76d3526c-a1e0-4199-e92f-ece6a36c0a77"
      },
      "execution_count": null,
      "outputs": [
        {
          "output_type": "stream",
          "name": "stdout",
          "text": [
            "0.9715203672139957\n",
            "121.18411778641398\n",
            "5.8406645889089175\n",
            "0.9714662641522089\n"
          ]
        }
      ]
    },
    {
      "cell_type": "markdown",
      "source": [
        "# Concatenating null(bb) and non null values(cc) of sensor 50 (data 1)"
      ],
      "metadata": {
        "id": "JFaHBYeMFrs6"
      }
    },
    {
      "cell_type": "code",
      "source": [
        "bb=bb.drop(['sensor_50'],axis=1)\n",
        "preds=rfmodel.predict(bb)\n",
        "bb['sensor_50']=preds\n",
        "data1=pd.concat([bb,cc],axis=0)\n",
        "data1.isnull().sum()"
      ],
      "metadata": {
        "id": "n_tJA_BJglh8",
        "colab": {
          "base_uri": "https://localhost:8080/"
        },
        "outputId": "67793f73-b4b3-4cdf-9c6a-a548d2fecf2a"
      },
      "execution_count": null,
      "outputs": [
        {
          "output_type": "execute_result",
          "data": {
            "text/plain": [
              "sensor_00         0\n",
              "sensor_01         0\n",
              "sensor_02         0\n",
              "sensor_03         0\n",
              "sensor_04         0\n",
              "sensor_05         0\n",
              "sensor_06         0\n",
              "sensor_07         0\n",
              "sensor_08         0\n",
              "sensor_09         0\n",
              "sensor_10         0\n",
              "sensor_11         0\n",
              "sensor_12         0\n",
              "sensor_13         0\n",
              "sensor_14         0\n",
              "sensor_16         0\n",
              "sensor_17         0\n",
              "sensor_18         0\n",
              "sensor_19         0\n",
              "sensor_20         0\n",
              "sensor_21         0\n",
              "sensor_22         0\n",
              "sensor_23         0\n",
              "sensor_24         0\n",
              "sensor_25         0\n",
              "sensor_26         0\n",
              "sensor_27         0\n",
              "sensor_28         0\n",
              "sensor_29         0\n",
              "sensor_30         0\n",
              "sensor_31         0\n",
              "sensor_32         0\n",
              "sensor_33         0\n",
              "sensor_34         0\n",
              "sensor_35         0\n",
              "sensor_36         0\n",
              "sensor_37         0\n",
              "sensor_38         0\n",
              "sensor_39         0\n",
              "sensor_40         0\n",
              "sensor_41         0\n",
              "sensor_42         0\n",
              "sensor_43         0\n",
              "sensor_44         0\n",
              "sensor_45         0\n",
              "sensor_46         0\n",
              "sensor_47         0\n",
              "sensor_48         0\n",
              "sensor_49         0\n",
              "sensor_51         0\n",
              "machine_status    0\n",
              "rul               0\n",
              "month             0\n",
              "day               0\n",
              "minute            0\n",
              "hour              0\n",
              "sensor_50         0\n",
              "dtype: int64"
            ]
          },
          "metadata": {},
          "execution_count": 17
        }
      ]
    },
    {
      "cell_type": "markdown",
      "source": [
        "# Normalization of data1 before splitting it for training and testing"
      ],
      "metadata": {
        "id": "MRWi2V_m9LT9"
      }
    },
    {
      "cell_type": "code",
      "source": [
        "from sklearn.preprocessing import StandardScaler\n",
        "y1=data1['rul']\n",
        "x1=data1.drop(['rul','sensor_50'],axis=1)\n",
        "x1=StandardScaler().fit_transform(x1)\n",
        "x_train_1,x_test_1,y_train_1,y_test_1=train_test_split(x1,y1,test_size=0.2)"
      ],
      "metadata": {
        "id": "QGAWuQWOgsft"
      },
      "execution_count": null,
      "outputs": []
    },
    {
      "cell_type": "markdown",
      "source": [
        "# Performing regression of RUL using various regressor models"
      ],
      "metadata": {
        "id": "B_COZ7gW9Wsh"
      }
    },
    {
      "cell_type": "code",
      "source": [
        "!pip install AutoLogging_ML"
      ],
      "metadata": {
        "id": "ptTjUqlqkQ-m",
        "colab": {
          "base_uri": "https://localhost:8080/"
        },
        "outputId": "ea238309-13cd-44cc-ff94-2cbc880f609c"
      },
      "execution_count": null,
      "outputs": [
        {
          "output_type": "stream",
          "name": "stdout",
          "text": [
            "Collecting AutoLogging_ML\n",
            "  Downloading AutoLogging_ML-1.2.4-py3-none-any.whl (9.3 kB)\n",
            "Installing collected packages: AutoLogging_ML\n",
            "Successfully installed AutoLogging_ML-1.2.4\n"
          ]
        }
      ]
    },
    {
      "cell_type": "code",
      "source": [
        "!pip install catboost"
      ],
      "metadata": {
        "id": "6gEJAbwzlsAs",
        "colab": {
          "base_uri": "https://localhost:8080/"
        },
        "outputId": "8ad8866e-c395-4a62-8e22-ae49ce35d218"
      },
      "execution_count": null,
      "outputs": [
        {
          "output_type": "stream",
          "name": "stdout",
          "text": [
            "Collecting catboost\n",
            "  Downloading catboost-1.2.2-cp310-cp310-manylinux2014_x86_64.whl (98.7 MB)\n",
            "\u001b[2K     \u001b[90m━━━━━━━━━━━━━━━━━━━━━━━━━━━━━━━━━━━━━━━━\u001b[0m \u001b[32m98.7/98.7 MB\u001b[0m \u001b[31m9.3 MB/s\u001b[0m eta \u001b[36m0:00:00\u001b[0m\n",
            "\u001b[?25hRequirement already satisfied: graphviz in /usr/local/lib/python3.10/dist-packages (from catboost) (0.20.1)\n",
            "Requirement already satisfied: matplotlib in /usr/local/lib/python3.10/dist-packages (from catboost) (3.7.1)\n",
            "Requirement already satisfied: numpy>=1.16.0 in /usr/local/lib/python3.10/dist-packages (from catboost) (1.23.5)\n",
            "Requirement already satisfied: pandas>=0.24 in /usr/local/lib/python3.10/dist-packages (from catboost) (1.5.3)\n",
            "Requirement already satisfied: scipy in /usr/local/lib/python3.10/dist-packages (from catboost) (1.11.3)\n",
            "Requirement already satisfied: plotly in /usr/local/lib/python3.10/dist-packages (from catboost) (5.15.0)\n",
            "Requirement already satisfied: six in /usr/local/lib/python3.10/dist-packages (from catboost) (1.16.0)\n",
            "Requirement already satisfied: python-dateutil>=2.8.1 in /usr/local/lib/python3.10/dist-packages (from pandas>=0.24->catboost) (2.8.2)\n",
            "Requirement already satisfied: pytz>=2020.1 in /usr/local/lib/python3.10/dist-packages (from pandas>=0.24->catboost) (2023.3.post1)\n",
            "Requirement already satisfied: contourpy>=1.0.1 in /usr/local/lib/python3.10/dist-packages (from matplotlib->catboost) (1.2.0)\n",
            "Requirement already satisfied: cycler>=0.10 in /usr/local/lib/python3.10/dist-packages (from matplotlib->catboost) (0.12.1)\n",
            "Requirement already satisfied: fonttools>=4.22.0 in /usr/local/lib/python3.10/dist-packages (from matplotlib->catboost) (4.44.3)\n",
            "Requirement already satisfied: kiwisolver>=1.0.1 in /usr/local/lib/python3.10/dist-packages (from matplotlib->catboost) (1.4.5)\n",
            "Requirement already satisfied: packaging>=20.0 in /usr/local/lib/python3.10/dist-packages (from matplotlib->catboost) (23.2)\n",
            "Requirement already satisfied: pillow>=6.2.0 in /usr/local/lib/python3.10/dist-packages (from matplotlib->catboost) (9.4.0)\n",
            "Requirement already satisfied: pyparsing>=2.3.1 in /usr/local/lib/python3.10/dist-packages (from matplotlib->catboost) (3.1.1)\n",
            "Requirement already satisfied: tenacity>=6.2.0 in /usr/local/lib/python3.10/dist-packages (from plotly->catboost) (8.2.3)\n",
            "Installing collected packages: catboost\n",
            "Successfully installed catboost-1.2.2\n"
          ]
        }
      ]
    },
    {
      "cell_type": "code",
      "source": [
        "from AutoLogging_ML import AutoLogger\n",
        "a,model1=AutoLogger.train_and_log_regression(x_train_1,x_test_1,y_train_1,y_test_1)"
      ],
      "metadata": {
        "id": "GK30crOakV_G"
      },
      "execution_count": null,
      "outputs": []
    },
    {
      "cell_type": "markdown",
      "source": [
        "# Evaluation of various regressor models for RUL prediction"
      ],
      "metadata": {
        "id": "GizcF-iA90pY"
      }
    },
    {
      "cell_type": "code",
      "source": [
        "a"
      ],
      "metadata": {
        "id": "a16DT_Bwko9y",
        "colab": {
          "base_uri": "https://localhost:8080/",
          "height": 769
        },
        "outputId": "01d16904-c3c5-4594-bb9a-4f9d399ab74d"
      },
      "execution_count": null,
      "outputs": [
        {
          "output_type": "execute_result",
          "data": {
            "text/plain": [
              "                                model  training-mae  training-mse  \\\n",
              "0                   linear regression  1.265615e+02  2.517908e+04   \n",
              "1                      sgd regression  1.268632e+02  2.528418e+04   \n",
              "2                    ridge regression  1.265648e+02  2.517908e+04   \n",
              "3                         elastic net  1.543400e+02  3.467885e+04   \n",
              "4            decision tree regression  0.000000e+00  0.000000e+00   \n",
              "5            random forest regression  1.817671e-01  1.006563e+01   \n",
              "6                 adaboost regression  9.868478e+01  1.304080e+04   \n",
              "7           gradient boost regression  3.136047e+01  2.096832e+03   \n",
              "8                  xgboost regression  5.209130e+00  8.613402e+01   \n",
              "9                  bagging regression  2.002493e-01  1.277412e+01   \n",
              "10  hist gradient boosting regression  6.771403e+00  1.615381e+02   \n",
              "11              extra trees regressor  3.024360e-13  2.018620e-25   \n",
              "12                cat boost regressor  4.344026e+00  4.687535e+01   \n",
              "\n",
              "    training-mape  training-r2  training-median absolute error  \\\n",
              "0    6.967214e+13     0.505714                      109.569912   \n",
              "1    7.230364e+13     0.503651                      109.856912   \n",
              "2    6.965336e+13     0.505714                      109.576254   \n",
              "3    7.296876e+13     0.319226                      136.601301   \n",
              "4    0.000000e+00     1.000000                        0.033333   \n",
              "5    1.803843e+13     0.999802                        0.022167   \n",
              "6    4.453343e+13     0.743998                       97.586682   \n",
              "7    5.287874e+13     0.958837                       22.265393   \n",
              "8    3.248298e+12     0.998309                        3.320471   \n",
              "9    1.513348e+13     0.999749                        0.030000   \n",
              "10   3.522182e+13     0.996829                        4.382482   \n",
              "11   1.058440e-15     1.000000                        0.018333   \n",
              "12   2.737612e+12     0.999080                        3.067312   \n",
              "\n",
              "    training-maximum error  validation-mae  validation-mse  validation-mape  \\\n",
              "0               999.974509      126.992352    25330.520288         7.182958   \n",
              "1              1000.271026      127.269498    25436.793684         7.266956   \n",
              "2              1000.119964      126.995354    25330.782468         7.182299   \n",
              "3               606.656345      154.409333    34767.558621         7.478317   \n",
              "4               746.500000        0.387967      121.339666         1.987407   \n",
              "5               555.494500        0.479239       70.211363         2.200684   \n",
              "6               324.651359       98.717653    13074.164033         5.002491   \n",
              "7               536.311257       31.455098     2115.917553         3.455918   \n",
              "8               277.686214        5.776368      132.918233         1.894998   \n",
              "9               671.980000        0.507427       76.609674         2.274493   \n",
              "10              346.322581        6.809564      165.335102         1.866539   \n",
              "11              251.335000        0.178304        5.837950         0.654399   \n",
              "12              253.965829        4.603476       63.454625         1.592046   \n",
              "\n",
              "    validation-r2  validation-median absolute error  validation-maximum error  \n",
              "0        0.503599                        109.569912                999.974509  \n",
              "1        0.501516                        109.856912               1000.271026  \n",
              "2        0.503594                        109.576254               1000.119964  \n",
              "3        0.318662                        136.601301                606.656345  \n",
              "4        0.997622                          0.033333                746.500000  \n",
              "5        0.998624                          0.022167                555.494500  \n",
              "6        0.743786                         97.586682                324.651359  \n",
              "7        0.958534                         22.265393                536.311257  \n",
              "8        0.997395                          3.320471                277.686214  \n",
              "9        0.998499                          0.030000                671.980000  \n",
              "10       0.996760                          4.382482                346.322581  \n",
              "11       0.999886                          0.018333                251.335000  \n",
              "12       0.998756                          3.067312                253.965829  "
            ],
            "text/html": [
              "\n",
              "  <div id=\"df-938b3e10-61c0-41b8-984e-607dec482e9a\" class=\"colab-df-container\">\n",
              "    <div>\n",
              "<style scoped>\n",
              "    .dataframe tbody tr th:only-of-type {\n",
              "        vertical-align: middle;\n",
              "    }\n",
              "\n",
              "    .dataframe tbody tr th {\n",
              "        vertical-align: top;\n",
              "    }\n",
              "\n",
              "    .dataframe thead th {\n",
              "        text-align: right;\n",
              "    }\n",
              "</style>\n",
              "<table border=\"1\" class=\"dataframe\">\n",
              "  <thead>\n",
              "    <tr style=\"text-align: right;\">\n",
              "      <th></th>\n",
              "      <th>model</th>\n",
              "      <th>training-mae</th>\n",
              "      <th>training-mse</th>\n",
              "      <th>training-mape</th>\n",
              "      <th>training-r2</th>\n",
              "      <th>training-median absolute error</th>\n",
              "      <th>training-maximum error</th>\n",
              "      <th>validation-mae</th>\n",
              "      <th>validation-mse</th>\n",
              "      <th>validation-mape</th>\n",
              "      <th>validation-r2</th>\n",
              "      <th>validation-median absolute error</th>\n",
              "      <th>validation-maximum error</th>\n",
              "    </tr>\n",
              "  </thead>\n",
              "  <tbody>\n",
              "    <tr>\n",
              "      <th>0</th>\n",
              "      <td>linear regression</td>\n",
              "      <td>1.265615e+02</td>\n",
              "      <td>2.517908e+04</td>\n",
              "      <td>6.967214e+13</td>\n",
              "      <td>0.505714</td>\n",
              "      <td>109.569912</td>\n",
              "      <td>999.974509</td>\n",
              "      <td>126.992352</td>\n",
              "      <td>25330.520288</td>\n",
              "      <td>7.182958</td>\n",
              "      <td>0.503599</td>\n",
              "      <td>109.569912</td>\n",
              "      <td>999.974509</td>\n",
              "    </tr>\n",
              "    <tr>\n",
              "      <th>1</th>\n",
              "      <td>sgd regression</td>\n",
              "      <td>1.268632e+02</td>\n",
              "      <td>2.528418e+04</td>\n",
              "      <td>7.230364e+13</td>\n",
              "      <td>0.503651</td>\n",
              "      <td>109.856912</td>\n",
              "      <td>1000.271026</td>\n",
              "      <td>127.269498</td>\n",
              "      <td>25436.793684</td>\n",
              "      <td>7.266956</td>\n",
              "      <td>0.501516</td>\n",
              "      <td>109.856912</td>\n",
              "      <td>1000.271026</td>\n",
              "    </tr>\n",
              "    <tr>\n",
              "      <th>2</th>\n",
              "      <td>ridge regression</td>\n",
              "      <td>1.265648e+02</td>\n",
              "      <td>2.517908e+04</td>\n",
              "      <td>6.965336e+13</td>\n",
              "      <td>0.505714</td>\n",
              "      <td>109.576254</td>\n",
              "      <td>1000.119964</td>\n",
              "      <td>126.995354</td>\n",
              "      <td>25330.782468</td>\n",
              "      <td>7.182299</td>\n",
              "      <td>0.503594</td>\n",
              "      <td>109.576254</td>\n",
              "      <td>1000.119964</td>\n",
              "    </tr>\n",
              "    <tr>\n",
              "      <th>3</th>\n",
              "      <td>elastic net</td>\n",
              "      <td>1.543400e+02</td>\n",
              "      <td>3.467885e+04</td>\n",
              "      <td>7.296876e+13</td>\n",
              "      <td>0.319226</td>\n",
              "      <td>136.601301</td>\n",
              "      <td>606.656345</td>\n",
              "      <td>154.409333</td>\n",
              "      <td>34767.558621</td>\n",
              "      <td>7.478317</td>\n",
              "      <td>0.318662</td>\n",
              "      <td>136.601301</td>\n",
              "      <td>606.656345</td>\n",
              "    </tr>\n",
              "    <tr>\n",
              "      <th>4</th>\n",
              "      <td>decision tree regression</td>\n",
              "      <td>0.000000e+00</td>\n",
              "      <td>0.000000e+00</td>\n",
              "      <td>0.000000e+00</td>\n",
              "      <td>1.000000</td>\n",
              "      <td>0.033333</td>\n",
              "      <td>746.500000</td>\n",
              "      <td>0.387967</td>\n",
              "      <td>121.339666</td>\n",
              "      <td>1.987407</td>\n",
              "      <td>0.997622</td>\n",
              "      <td>0.033333</td>\n",
              "      <td>746.500000</td>\n",
              "    </tr>\n",
              "    <tr>\n",
              "      <th>5</th>\n",
              "      <td>random forest regression</td>\n",
              "      <td>1.817671e-01</td>\n",
              "      <td>1.006563e+01</td>\n",
              "      <td>1.803843e+13</td>\n",
              "      <td>0.999802</td>\n",
              "      <td>0.022167</td>\n",
              "      <td>555.494500</td>\n",
              "      <td>0.479239</td>\n",
              "      <td>70.211363</td>\n",
              "      <td>2.200684</td>\n",
              "      <td>0.998624</td>\n",
              "      <td>0.022167</td>\n",
              "      <td>555.494500</td>\n",
              "    </tr>\n",
              "    <tr>\n",
              "      <th>6</th>\n",
              "      <td>adaboost regression</td>\n",
              "      <td>9.868478e+01</td>\n",
              "      <td>1.304080e+04</td>\n",
              "      <td>4.453343e+13</td>\n",
              "      <td>0.743998</td>\n",
              "      <td>97.586682</td>\n",
              "      <td>324.651359</td>\n",
              "      <td>98.717653</td>\n",
              "      <td>13074.164033</td>\n",
              "      <td>5.002491</td>\n",
              "      <td>0.743786</td>\n",
              "      <td>97.586682</td>\n",
              "      <td>324.651359</td>\n",
              "    </tr>\n",
              "    <tr>\n",
              "      <th>7</th>\n",
              "      <td>gradient boost regression</td>\n",
              "      <td>3.136047e+01</td>\n",
              "      <td>2.096832e+03</td>\n",
              "      <td>5.287874e+13</td>\n",
              "      <td>0.958837</td>\n",
              "      <td>22.265393</td>\n",
              "      <td>536.311257</td>\n",
              "      <td>31.455098</td>\n",
              "      <td>2115.917553</td>\n",
              "      <td>3.455918</td>\n",
              "      <td>0.958534</td>\n",
              "      <td>22.265393</td>\n",
              "      <td>536.311257</td>\n",
              "    </tr>\n",
              "    <tr>\n",
              "      <th>8</th>\n",
              "      <td>xgboost regression</td>\n",
              "      <td>5.209130e+00</td>\n",
              "      <td>8.613402e+01</td>\n",
              "      <td>3.248298e+12</td>\n",
              "      <td>0.998309</td>\n",
              "      <td>3.320471</td>\n",
              "      <td>277.686214</td>\n",
              "      <td>5.776368</td>\n",
              "      <td>132.918233</td>\n",
              "      <td>1.894998</td>\n",
              "      <td>0.997395</td>\n",
              "      <td>3.320471</td>\n",
              "      <td>277.686214</td>\n",
              "    </tr>\n",
              "    <tr>\n",
              "      <th>9</th>\n",
              "      <td>bagging regression</td>\n",
              "      <td>2.002493e-01</td>\n",
              "      <td>1.277412e+01</td>\n",
              "      <td>1.513348e+13</td>\n",
              "      <td>0.999749</td>\n",
              "      <td>0.030000</td>\n",
              "      <td>671.980000</td>\n",
              "      <td>0.507427</td>\n",
              "      <td>76.609674</td>\n",
              "      <td>2.274493</td>\n",
              "      <td>0.998499</td>\n",
              "      <td>0.030000</td>\n",
              "      <td>671.980000</td>\n",
              "    </tr>\n",
              "    <tr>\n",
              "      <th>10</th>\n",
              "      <td>hist gradient boosting regression</td>\n",
              "      <td>6.771403e+00</td>\n",
              "      <td>1.615381e+02</td>\n",
              "      <td>3.522182e+13</td>\n",
              "      <td>0.996829</td>\n",
              "      <td>4.382482</td>\n",
              "      <td>346.322581</td>\n",
              "      <td>6.809564</td>\n",
              "      <td>165.335102</td>\n",
              "      <td>1.866539</td>\n",
              "      <td>0.996760</td>\n",
              "      <td>4.382482</td>\n",
              "      <td>346.322581</td>\n",
              "    </tr>\n",
              "    <tr>\n",
              "      <th>11</th>\n",
              "      <td>extra trees regressor</td>\n",
              "      <td>3.024360e-13</td>\n",
              "      <td>2.018620e-25</td>\n",
              "      <td>1.058440e-15</td>\n",
              "      <td>1.000000</td>\n",
              "      <td>0.018333</td>\n",
              "      <td>251.335000</td>\n",
              "      <td>0.178304</td>\n",
              "      <td>5.837950</td>\n",
              "      <td>0.654399</td>\n",
              "      <td>0.999886</td>\n",
              "      <td>0.018333</td>\n",
              "      <td>251.335000</td>\n",
              "    </tr>\n",
              "    <tr>\n",
              "      <th>12</th>\n",
              "      <td>cat boost regressor</td>\n",
              "      <td>4.344026e+00</td>\n",
              "      <td>4.687535e+01</td>\n",
              "      <td>2.737612e+12</td>\n",
              "      <td>0.999080</td>\n",
              "      <td>3.067312</td>\n",
              "      <td>253.965829</td>\n",
              "      <td>4.603476</td>\n",
              "      <td>63.454625</td>\n",
              "      <td>1.592046</td>\n",
              "      <td>0.998756</td>\n",
              "      <td>3.067312</td>\n",
              "      <td>253.965829</td>\n",
              "    </tr>\n",
              "  </tbody>\n",
              "</table>\n",
              "</div>\n",
              "    <div class=\"colab-df-buttons\">\n",
              "\n",
              "  <div class=\"colab-df-container\">\n",
              "    <button class=\"colab-df-convert\" onclick=\"convertToInteractive('df-938b3e10-61c0-41b8-984e-607dec482e9a')\"\n",
              "            title=\"Convert this dataframe to an interactive table.\"\n",
              "            style=\"display:none;\">\n",
              "\n",
              "  <svg xmlns=\"http://www.w3.org/2000/svg\" height=\"24px\" viewBox=\"0 -960 960 960\">\n",
              "    <path d=\"M120-120v-720h720v720H120Zm60-500h600v-160H180v160Zm220 220h160v-160H400v160Zm0 220h160v-160H400v160ZM180-400h160v-160H180v160Zm440 0h160v-160H620v160ZM180-180h160v-160H180v160Zm440 0h160v-160H620v160Z\"/>\n",
              "  </svg>\n",
              "    </button>\n",
              "\n",
              "  <style>\n",
              "    .colab-df-container {\n",
              "      display:flex;\n",
              "      gap: 12px;\n",
              "    }\n",
              "\n",
              "    .colab-df-convert {\n",
              "      background-color: #E8F0FE;\n",
              "      border: none;\n",
              "      border-radius: 50%;\n",
              "      cursor: pointer;\n",
              "      display: none;\n",
              "      fill: #1967D2;\n",
              "      height: 32px;\n",
              "      padding: 0 0 0 0;\n",
              "      width: 32px;\n",
              "    }\n",
              "\n",
              "    .colab-df-convert:hover {\n",
              "      background-color: #E2EBFA;\n",
              "      box-shadow: 0px 1px 2px rgba(60, 64, 67, 0.3), 0px 1px 3px 1px rgba(60, 64, 67, 0.15);\n",
              "      fill: #174EA6;\n",
              "    }\n",
              "\n",
              "    .colab-df-buttons div {\n",
              "      margin-bottom: 4px;\n",
              "    }\n",
              "\n",
              "    [theme=dark] .colab-df-convert {\n",
              "      background-color: #3B4455;\n",
              "      fill: #D2E3FC;\n",
              "    }\n",
              "\n",
              "    [theme=dark] .colab-df-convert:hover {\n",
              "      background-color: #434B5C;\n",
              "      box-shadow: 0px 1px 3px 1px rgba(0, 0, 0, 0.15);\n",
              "      filter: drop-shadow(0px 1px 2px rgba(0, 0, 0, 0.3));\n",
              "      fill: #FFFFFF;\n",
              "    }\n",
              "  </style>\n",
              "\n",
              "    <script>\n",
              "      const buttonEl =\n",
              "        document.querySelector('#df-938b3e10-61c0-41b8-984e-607dec482e9a button.colab-df-convert');\n",
              "      buttonEl.style.display =\n",
              "        google.colab.kernel.accessAllowed ? 'block' : 'none';\n",
              "\n",
              "      async function convertToInteractive(key) {\n",
              "        const element = document.querySelector('#df-938b3e10-61c0-41b8-984e-607dec482e9a');\n",
              "        const dataTable =\n",
              "          await google.colab.kernel.invokeFunction('convertToInteractive',\n",
              "                                                    [key], {});\n",
              "        if (!dataTable) return;\n",
              "\n",
              "        const docLinkHtml = 'Like what you see? Visit the ' +\n",
              "          '<a target=\"_blank\" href=https://colab.research.google.com/notebooks/data_table.ipynb>data table notebook</a>'\n",
              "          + ' to learn more about interactive tables.';\n",
              "        element.innerHTML = '';\n",
              "        dataTable['output_type'] = 'display_data';\n",
              "        await google.colab.output.renderOutput(dataTable, element);\n",
              "        const docLink = document.createElement('div');\n",
              "        docLink.innerHTML = docLinkHtml;\n",
              "        element.appendChild(docLink);\n",
              "      }\n",
              "    </script>\n",
              "  </div>\n",
              "\n",
              "\n",
              "<div id=\"df-c49b0956-a05f-4539-ab83-9b1c637693bb\">\n",
              "  <button class=\"colab-df-quickchart\" onclick=\"quickchart('df-c49b0956-a05f-4539-ab83-9b1c637693bb')\"\n",
              "            title=\"Suggest charts\"\n",
              "            style=\"display:none;\">\n",
              "\n",
              "<svg xmlns=\"http://www.w3.org/2000/svg\" height=\"24px\"viewBox=\"0 0 24 24\"\n",
              "     width=\"24px\">\n",
              "    <g>\n",
              "        <path d=\"M19 3H5c-1.1 0-2 .9-2 2v14c0 1.1.9 2 2 2h14c1.1 0 2-.9 2-2V5c0-1.1-.9-2-2-2zM9 17H7v-7h2v7zm4 0h-2V7h2v10zm4 0h-2v-4h2v4z\"/>\n",
              "    </g>\n",
              "</svg>\n",
              "  </button>\n",
              "\n",
              "<style>\n",
              "  .colab-df-quickchart {\n",
              "      --bg-color: #E8F0FE;\n",
              "      --fill-color: #1967D2;\n",
              "      --hover-bg-color: #E2EBFA;\n",
              "      --hover-fill-color: #174EA6;\n",
              "      --disabled-fill-color: #AAA;\n",
              "      --disabled-bg-color: #DDD;\n",
              "  }\n",
              "\n",
              "  [theme=dark] .colab-df-quickchart {\n",
              "      --bg-color: #3B4455;\n",
              "      --fill-color: #D2E3FC;\n",
              "      --hover-bg-color: #434B5C;\n",
              "      --hover-fill-color: #FFFFFF;\n",
              "      --disabled-bg-color: #3B4455;\n",
              "      --disabled-fill-color: #666;\n",
              "  }\n",
              "\n",
              "  .colab-df-quickchart {\n",
              "    background-color: var(--bg-color);\n",
              "    border: none;\n",
              "    border-radius: 50%;\n",
              "    cursor: pointer;\n",
              "    display: none;\n",
              "    fill: var(--fill-color);\n",
              "    height: 32px;\n",
              "    padding: 0;\n",
              "    width: 32px;\n",
              "  }\n",
              "\n",
              "  .colab-df-quickchart:hover {\n",
              "    background-color: var(--hover-bg-color);\n",
              "    box-shadow: 0 1px 2px rgba(60, 64, 67, 0.3), 0 1px 3px 1px rgba(60, 64, 67, 0.15);\n",
              "    fill: var(--button-hover-fill-color);\n",
              "  }\n",
              "\n",
              "  .colab-df-quickchart-complete:disabled,\n",
              "  .colab-df-quickchart-complete:disabled:hover {\n",
              "    background-color: var(--disabled-bg-color);\n",
              "    fill: var(--disabled-fill-color);\n",
              "    box-shadow: none;\n",
              "  }\n",
              "\n",
              "  .colab-df-spinner {\n",
              "    border: 2px solid var(--fill-color);\n",
              "    border-color: transparent;\n",
              "    border-bottom-color: var(--fill-color);\n",
              "    animation:\n",
              "      spin 1s steps(1) infinite;\n",
              "  }\n",
              "\n",
              "  @keyframes spin {\n",
              "    0% {\n",
              "      border-color: transparent;\n",
              "      border-bottom-color: var(--fill-color);\n",
              "      border-left-color: var(--fill-color);\n",
              "    }\n",
              "    20% {\n",
              "      border-color: transparent;\n",
              "      border-left-color: var(--fill-color);\n",
              "      border-top-color: var(--fill-color);\n",
              "    }\n",
              "    30% {\n",
              "      border-color: transparent;\n",
              "      border-left-color: var(--fill-color);\n",
              "      border-top-color: var(--fill-color);\n",
              "      border-right-color: var(--fill-color);\n",
              "    }\n",
              "    40% {\n",
              "      border-color: transparent;\n",
              "      border-right-color: var(--fill-color);\n",
              "      border-top-color: var(--fill-color);\n",
              "    }\n",
              "    60% {\n",
              "      border-color: transparent;\n",
              "      border-right-color: var(--fill-color);\n",
              "    }\n",
              "    80% {\n",
              "      border-color: transparent;\n",
              "      border-right-color: var(--fill-color);\n",
              "      border-bottom-color: var(--fill-color);\n",
              "    }\n",
              "    90% {\n",
              "      border-color: transparent;\n",
              "      border-bottom-color: var(--fill-color);\n",
              "    }\n",
              "  }\n",
              "</style>\n",
              "\n",
              "  <script>\n",
              "    async function quickchart(key) {\n",
              "      const quickchartButtonEl =\n",
              "        document.querySelector('#' + key + ' button');\n",
              "      quickchartButtonEl.disabled = true;  // To prevent multiple clicks.\n",
              "      quickchartButtonEl.classList.add('colab-df-spinner');\n",
              "      try {\n",
              "        const charts = await google.colab.kernel.invokeFunction(\n",
              "            'suggestCharts', [key], {});\n",
              "      } catch (error) {\n",
              "        console.error('Error during call to suggestCharts:', error);\n",
              "      }\n",
              "      quickchartButtonEl.classList.remove('colab-df-spinner');\n",
              "      quickchartButtonEl.classList.add('colab-df-quickchart-complete');\n",
              "    }\n",
              "    (() => {\n",
              "      let quickchartButtonEl =\n",
              "        document.querySelector('#df-c49b0956-a05f-4539-ab83-9b1c637693bb button');\n",
              "      quickchartButtonEl.style.display =\n",
              "        google.colab.kernel.accessAllowed ? 'block' : 'none';\n",
              "    })();\n",
              "  </script>\n",
              "</div>\n",
              "    </div>\n",
              "  </div>\n"
            ]
          },
          "metadata": {},
          "execution_count": 22
        }
      ]
    },
    {
      "cell_type": "code",
      "source": [
        "from sklearn.ensemble import ExtraTreesRegressor\n",
        "rfmodel = ExtraTreesRegressor()\n",
        "rfmodel.fit(x_train_1, y_train_1)\n",
        "o=rfmodel.predict(x_test_1)\n",
        "print(rfmodel.score(x_test_1,y_test_1))\n",
        "print(mean_squared_error(o,y_test_1))\n",
        "print(mean_absolute_error(o,y_test_1))\n",
        "print(r2_score(o,y_test_1))"
      ],
      "metadata": {
        "colab": {
          "base_uri": "https://localhost:8080/"
        },
        "id": "3nebZsLbugBL",
        "outputId": "a6118e0a-5a13-4ee7-88f1-25276364739a"
      },
      "execution_count": null,
      "outputs": [
        {
          "output_type": "stream",
          "name": "stdout",
          "text": [
            "0.9998909748638619\n",
            "5.563372003769185\n",
            "0.18150755004155744\n",
            "0.9998908437766119\n"
          ]
        }
      ]
    },
    {
      "cell_type": "code",
      "source": [
        "data2.isnull().sum()"
      ],
      "metadata": {
        "id": "Gfdhr4wdmDLR",
        "colab": {
          "base_uri": "https://localhost:8080/"
        },
        "outputId": "85eb2ca4-b61b-4c19-fc5e-d2a40bff2d51"
      },
      "execution_count": null,
      "outputs": [
        {
          "output_type": "execute_result",
          "data": {
            "text/plain": [
              "sensor_00             3\n",
              "sensor_01           279\n",
              "sensor_02             3\n",
              "sensor_03             3\n",
              "sensor_04             3\n",
              "sensor_05             3\n",
              "sensor_06             3\n",
              "sensor_07             3\n",
              "sensor_08             3\n",
              "sensor_09             3\n",
              "sensor_10             3\n",
              "sensor_11             3\n",
              "sensor_12             3\n",
              "sensor_13             3\n",
              "sensor_14             0\n",
              "sensor_16             0\n",
              "sensor_17             0\n",
              "sensor_18             0\n",
              "sensor_19             0\n",
              "sensor_20             0\n",
              "sensor_21             0\n",
              "sensor_22             0\n",
              "sensor_23             0\n",
              "sensor_24             0\n",
              "sensor_25             0\n",
              "sensor_26             0\n",
              "sensor_27             0\n",
              "sensor_28             0\n",
              "sensor_29             0\n",
              "sensor_30             0\n",
              "sensor_31             0\n",
              "sensor_32             0\n",
              "sensor_33             0\n",
              "sensor_34             0\n",
              "sensor_35             0\n",
              "sensor_36             0\n",
              "sensor_37             0\n",
              "sensor_38             3\n",
              "sensor_39             3\n",
              "sensor_40             3\n",
              "sensor_41             3\n",
              "sensor_42             3\n",
              "sensor_43             3\n",
              "sensor_44             3\n",
              "sensor_45             3\n",
              "sensor_46             3\n",
              "sensor_47             3\n",
              "sensor_48             3\n",
              "sensor_49             3\n",
              "sensor_50         53879\n",
              "sensor_51             3\n",
              "machine_status        0\n",
              "rul               53879\n",
              "month                 0\n",
              "day                   0\n",
              "minute                0\n",
              "hour                  0\n",
              "dtype: int64"
            ]
          },
          "metadata": {},
          "execution_count": 24
        }
      ]
    },
    {
      "cell_type": "markdown",
      "source": [
        "# Value counts of machine status classification"
      ],
      "metadata": {
        "id": "6Yte4sRQ-GCg"
      }
    },
    {
      "cell_type": "code",
      "source": [
        "data1['machine_status'].value_counts()"
      ],
      "metadata": {
        "colab": {
          "base_uri": "https://localhost:8080/"
        },
        "id": "7A2Dso1ge6WV",
        "outputId": "f13f8593-f4dd-495a-d4d6-7293c45964d4"
      },
      "execution_count": null,
      "outputs": [
        {
          "output_type": "execute_result",
          "data": {
            "text/plain": [
              "1    152032\n",
              "2     14402\n",
              "0         7\n",
              "Name: machine_status, dtype: int64"
            ]
          },
          "metadata": {},
          "execution_count": 25
        }
      ]
    },
    {
      "cell_type": "markdown",
      "source": [
        "# Label encoding of data2"
      ],
      "metadata": {
        "id": "p4Y3ChfH_X1w"
      }
    },
    {
      "cell_type": "code",
      "source": [
        "data2[\"machine_status\"] = label_encoder.fit_transform(data2[\"machine_status\"])\n",
        "data2['machine_status']=data2['machine_status']+1\n",
        "data2['machine_status'].value_counts()"
      ],
      "metadata": {
        "colab": {
          "base_uri": "https://localhost:8080/"
        },
        "id": "Enf5zeHIe9oF",
        "outputId": "d3908648-305a-477b-e85a-a03e313d46cc"
      },
      "execution_count": null,
      "outputs": [
        {
          "output_type": "stream",
          "name": "stderr",
          "text": [
            "<ipython-input-26-9c9bea3a9a3e>:1: SettingWithCopyWarning: \n",
            "A value is trying to be set on a copy of a slice from a DataFrame.\n",
            "Try using .loc[row_indexer,col_indexer] = value instead\n",
            "\n",
            "See the caveats in the documentation: https://pandas.pydata.org/pandas-docs/stable/user_guide/indexing.html#returning-a-view-versus-a-copy\n",
            "  data2[\"machine_status\"] = label_encoder.fit_transform(data2[\"machine_status\"])\n",
            "<ipython-input-26-9c9bea3a9a3e>:2: SettingWithCopyWarning: \n",
            "A value is trying to be set on a copy of a slice from a DataFrame.\n",
            "Try using .loc[row_indexer,col_indexer] = value instead\n",
            "\n",
            "See the caveats in the documentation: https://pandas.pydata.org/pandas-docs/stable/user_guide/indexing.html#returning-a-view-versus-a-copy\n",
            "  data2['machine_status']=data2['machine_status']+1\n"
          ]
        },
        {
          "output_type": "execute_result",
          "data": {
            "text/plain": [
              "1    53804\n",
              "2       75\n",
              "Name: machine_status, dtype: int64"
            ]
          },
          "metadata": {},
          "execution_count": 26
        }
      ]
    },
    {
      "cell_type": "markdown",
      "source": [
        "# Filling null values of sensor 50 of data2 using f-fill"
      ],
      "metadata": {
        "id": "N3spDLXf-hV_"
      }
    },
    {
      "cell_type": "code",
      "source": [
        "data2=data2.drop(['sensor_50'],axis=1)\n",
        "data2=data2.fillna(method='ffill')"
      ],
      "metadata": {
        "id": "DYbSTCg3ktBE"
      },
      "execution_count": null,
      "outputs": []
    },
    {
      "cell_type": "markdown",
      "source": [
        "#data2 showing the null values of RUL that is about to be imputed"
      ],
      "metadata": {
        "id": "3Q8AGhb5__HA"
      }
    },
    {
      "cell_type": "code",
      "source": [
        "data2.isnull().sum()"
      ],
      "metadata": {
        "id": "RTHX7lntwcps",
        "colab": {
          "base_uri": "https://localhost:8080/"
        },
        "outputId": "32a8d33f-fbee-45e9-da9b-5c11272e5f8d"
      },
      "execution_count": null,
      "outputs": [
        {
          "output_type": "execute_result",
          "data": {
            "text/plain": [
              "sensor_00             0\n",
              "sensor_01             0\n",
              "sensor_02             0\n",
              "sensor_03             0\n",
              "sensor_04             0\n",
              "sensor_05             0\n",
              "sensor_06             0\n",
              "sensor_07             0\n",
              "sensor_08             0\n",
              "sensor_09             0\n",
              "sensor_10             0\n",
              "sensor_11             0\n",
              "sensor_12             0\n",
              "sensor_13             0\n",
              "sensor_14             0\n",
              "sensor_16             0\n",
              "sensor_17             0\n",
              "sensor_18             0\n",
              "sensor_19             0\n",
              "sensor_20             0\n",
              "sensor_21             0\n",
              "sensor_22             0\n",
              "sensor_23             0\n",
              "sensor_24             0\n",
              "sensor_25             0\n",
              "sensor_26             0\n",
              "sensor_27             0\n",
              "sensor_28             0\n",
              "sensor_29             0\n",
              "sensor_30             0\n",
              "sensor_31             0\n",
              "sensor_32             0\n",
              "sensor_33             0\n",
              "sensor_34             0\n",
              "sensor_35             0\n",
              "sensor_36             0\n",
              "sensor_37             0\n",
              "sensor_38             0\n",
              "sensor_39             0\n",
              "sensor_40             0\n",
              "sensor_41             0\n",
              "sensor_42             0\n",
              "sensor_43             0\n",
              "sensor_44             0\n",
              "sensor_45             0\n",
              "sensor_46             0\n",
              "sensor_47             0\n",
              "sensor_48             0\n",
              "sensor_49             0\n",
              "sensor_51             0\n",
              "machine_status        0\n",
              "rul               53879\n",
              "month                 0\n",
              "day                   0\n",
              "minute                0\n",
              "hour                  0\n",
              "dtype: int64"
            ]
          },
          "metadata": {},
          "execution_count": 28
        }
      ]
    },
    {
      "cell_type": "code",
      "source": [
        "data2=data2.drop(['rul'],axis=1)"
      ],
      "metadata": {
        "id": "VCiUAunDw4nk"
      },
      "execution_count": null,
      "outputs": []
    },
    {
      "cell_type": "markdown",
      "source": [
        "# Concatenation of data1 and data2"
      ],
      "metadata": {
        "id": "eXIPMM9q_fpP"
      }
    },
    {
      "cell_type": "code",
      "source": [
        "dat=StandardScaler().fit_transform(data2)\n",
        "outs=rfmodel.predict(dat)\n",
        "outs.shape\n",
        "data2['rul']=outs\n",
        "data_c=pd.concat([data1,data2],axis=0)"
      ],
      "metadata": {
        "id": "MqSIRKTRsAvu"
      },
      "execution_count": null,
      "outputs": []
    },
    {
      "cell_type": "code",
      "source": [
        "data_c.isnull().sum()"
      ],
      "metadata": {
        "id": "F0PrifaU54xY",
        "colab": {
          "base_uri": "https://localhost:8080/"
        },
        "outputId": "732e2988-8a5b-4a5f-aaec-9f72f2e2cbcb"
      },
      "execution_count": null,
      "outputs": [
        {
          "output_type": "execute_result",
          "data": {
            "text/plain": [
              "sensor_00             0\n",
              "sensor_01             0\n",
              "sensor_02             0\n",
              "sensor_03             0\n",
              "sensor_04             0\n",
              "sensor_05             0\n",
              "sensor_06             0\n",
              "sensor_07             0\n",
              "sensor_08             0\n",
              "sensor_09             0\n",
              "sensor_10             0\n",
              "sensor_11             0\n",
              "sensor_12             0\n",
              "sensor_13             0\n",
              "sensor_14             0\n",
              "sensor_16             0\n",
              "sensor_17             0\n",
              "sensor_18             0\n",
              "sensor_19             0\n",
              "sensor_20             0\n",
              "sensor_21             0\n",
              "sensor_22             0\n",
              "sensor_23             0\n",
              "sensor_24             0\n",
              "sensor_25             0\n",
              "sensor_26             0\n",
              "sensor_27             0\n",
              "sensor_28             0\n",
              "sensor_29             0\n",
              "sensor_30             0\n",
              "sensor_31             0\n",
              "sensor_32             0\n",
              "sensor_33             0\n",
              "sensor_34             0\n",
              "sensor_35             0\n",
              "sensor_36             0\n",
              "sensor_37             0\n",
              "sensor_38             0\n",
              "sensor_39             0\n",
              "sensor_40             0\n",
              "sensor_41             0\n",
              "sensor_42             0\n",
              "sensor_43             0\n",
              "sensor_44             0\n",
              "sensor_45             0\n",
              "sensor_46             0\n",
              "sensor_47             0\n",
              "sensor_48             0\n",
              "sensor_49             0\n",
              "sensor_51             0\n",
              "machine_status        0\n",
              "rul                   0\n",
              "month                 0\n",
              "day                   0\n",
              "minute                0\n",
              "hour                  0\n",
              "sensor_50         53879\n",
              "dtype: int64"
            ]
          },
          "metadata": {},
          "execution_count": 31
        }
      ]
    },
    {
      "cell_type": "code",
      "source": [
        "data_c=data_c.drop(['sensor_50'],axis=1)"
      ],
      "metadata": {
        "id": "7YHLsKCgxgDp"
      },
      "execution_count": null,
      "outputs": []
    },
    {
      "cell_type": "markdown",
      "source": [
        "# Making a csv file for concatenated data (data_c)"
      ],
      "metadata": {
        "id": "SHIP9jNxAHyo"
      }
    },
    {
      "cell_type": "code",
      "source": [
        "data_c.to_csv('filled dataset for multitask model.csv')"
      ],
      "metadata": {
        "id": "FZuQa5b76lOy"
      },
      "execution_count": null,
      "outputs": []
    },
    {
      "cell_type": "markdown",
      "source": [
        "# Value counts of machine status"
      ],
      "metadata": {
        "id": "GMtKk5hh6k7r"
      }
    },
    {
      "cell_type": "code",
      "source": [
        "data_c['machine_status'].value_counts()"
      ],
      "metadata": {
        "colab": {
          "base_uri": "https://localhost:8080/"
        },
        "id": "vn2KQfhAzcW2",
        "outputId": "61f030ac-dc65-4c0c-deee-c06ca12779db"
      },
      "execution_count": null,
      "outputs": [
        {
          "output_type": "execute_result",
          "data": {
            "text/plain": [
              "1    205836\n",
              "2     14477\n",
              "0         7\n",
              "Name: machine_status, dtype: int64"
            ]
          },
          "metadata": {},
          "execution_count": 34
        }
      ]
    },
    {
      "cell_type": "code",
      "source": [
        "data_c.isnull().sum().sum()"
      ],
      "metadata": {
        "colab": {
          "base_uri": "https://localhost:8080/"
        },
        "id": "eXLE2BUx715c",
        "outputId": "c77a4f71-37c2-40a0-ccdd-bfd7b2bc60eb"
      },
      "execution_count": null,
      "outputs": [
        {
          "output_type": "execute_result",
          "data": {
            "text/plain": [
              "0"
            ]
          },
          "metadata": {},
          "execution_count": 35
        }
      ]
    },
    {
      "cell_type": "markdown",
      "source": [
        "# Using ANN to perform classification and regression"
      ],
      "metadata": {
        "id": "u6Y0bKCVJIxI"
      }
    },
    {
      "cell_type": "code",
      "source": [
        "import tensorflow as tf\n",
        "from tensorflow import keras\n",
        "from keras import Sequential\n",
        "from keras.layers import *\n",
        "from keras.callbacks import *\n",
        "from keras.utils import to_categorical\n",
        "from sklearn.preprocessing import MinMaxScaler"
      ],
      "metadata": {
        "id": "Fg8VW2FSyZhu"
      },
      "execution_count": null,
      "outputs": []
    },
    {
      "cell_type": "markdown",
      "source": [
        "# Assigning target layers(y) of ANN"
      ],
      "metadata": {
        "id": "UEVU1JngGibe"
      }
    },
    {
      "cell_type": "code",
      "source": [
        "status=data_c['machine_status']\n",
        "status=to_categorical(status,num_classes=3)\n",
        "rul=data_c['rul']\n",
        "x=data_c.drop(['machine_status','rul'],axis=1)\n",
        "x=MinMaxScaler().fit_transform(x)\n",
        "x_train,x_test,y_train1,y_test1,y_train2,y_test2=train_test_split(x,status,rul,test_size=0.2)"
      ],
      "metadata": {
        "id": "dYbl6Ksn78P1"
      },
      "execution_count": null,
      "outputs": []
    },
    {
      "cell_type": "code",
      "source": [
        "np.unique(status)"
      ],
      "metadata": {
        "colab": {
          "base_uri": "https://localhost:8080/"
        },
        "id": "dj9dcEY71sEc",
        "outputId": "f6fc5182-8985-4932-f81a-142ff0b42d0a"
      },
      "execution_count": null,
      "outputs": [
        {
          "output_type": "execute_result",
          "data": {
            "text/plain": [
              "array([0., 1.], dtype=float32)"
            ]
          },
          "metadata": {},
          "execution_count": 38
        }
      ]
    },
    {
      "cell_type": "code",
      "source": [
        "x_train.shape"
      ],
      "metadata": {
        "colab": {
          "base_uri": "https://localhost:8080/"
        },
        "id": "yFP2d0G30qMH",
        "outputId": "3ba2c108-1940-49e1-ec39-603dca85e8a6"
      },
      "execution_count": null,
      "outputs": [
        {
          "output_type": "execute_result",
          "data": {
            "text/plain": [
              "(176256, 54)"
            ]
          },
          "metadata": {},
          "execution_count": 39
        }
      ]
    },
    {
      "cell_type": "code",
      "source": [
        "inputs = tf.keras.layers.Input(shape=([54]), name='input')\n",
        "main_branch=tf.keras.layers.Dense(128,activation='relu',name='shared_hidden')(inputs)\n",
        "main_reg=tf.keras.layers.BatchNormalization(name='shared_batchnorm')(main_branch)\n",
        "status_op = tf.keras.layers.Dense(3, activation='softmax', name='status_output')(main_reg)\n",
        "task_2 = tf.keras.layers.Dense(32, activation='relu',name='rul_hidden')(main_reg)\n",
        "tas_2= tf.keras.layers.Dropout(0.1,name='rul_dropout')(task_2)\n",
        "rul_op=tf.keras.layers.Dense(1,activation='linear',name='rul_output')(tas_2)\n",
        "model = tf.keras.Model(inputs = inputs, outputs = [status_op, rul_op])\n",
        "model.summary()"
      ],
      "metadata": {
        "colab": {
          "base_uri": "https://localhost:8080/"
        },
        "id": "kroU2bEszN_Y",
        "outputId": "7a377ef0-d0ba-45a3-9782-9fb51014167d"
      },
      "execution_count": null,
      "outputs": [
        {
          "output_type": "stream",
          "name": "stdout",
          "text": [
            "Model: \"model\"\n",
            "__________________________________________________________________________________________________\n",
            " Layer (type)                   Output Shape         Param #     Connected to                     \n",
            "==================================================================================================\n",
            " input (InputLayer)             [(None, 54)]         0           []                               \n",
            "                                                                                                  \n",
            " shared_hidden (Dense)          (None, 128)          7040        ['input[0][0]']                  \n",
            "                                                                                                  \n",
            " shared_batchnorm (BatchNormali  (None, 128)         512         ['shared_hidden[0][0]']          \n",
            " zation)                                                                                          \n",
            "                                                                                                  \n",
            " rul_hidden (Dense)             (None, 32)           4128        ['shared_batchnorm[0][0]']       \n",
            "                                                                                                  \n",
            " rul_dropout (Dropout)          (None, 32)           0           ['rul_hidden[0][0]']             \n",
            "                                                                                                  \n",
            " status_output (Dense)          (None, 3)            387         ['shared_batchnorm[0][0]']       \n",
            "                                                                                                  \n",
            " rul_output (Dense)             (None, 1)            33          ['rul_dropout[0][0]']            \n",
            "                                                                                                  \n",
            "==================================================================================================\n",
            "Total params: 12,100\n",
            "Trainable params: 11,844\n",
            "Non-trainable params: 256\n",
            "__________________________________________________________________________________________________\n"
          ]
        }
      ]
    },
    {
      "cell_type": "markdown",
      "source": [
        "# Architecture of the ANN"
      ],
      "metadata": {
        "id": "Uubwb2i0BftM"
      }
    },
    {
      "cell_type": "code",
      "source": [
        "from keras.utils import plot_model\n",
        "plot_model(model)"
      ],
      "metadata": {
        "colab": {
          "base_uri": "https://localhost:8080/",
          "height": 564
        },
        "id": "-aZFkCGw0trp",
        "outputId": "e8923cc4-c88d-4dee-afcb-cfe6927d2899"
      },
      "execution_count": null,
      "outputs": [
        {
          "output_type": "execute_result",
          "data": {
            "image/png": "[encoded data removed]",
            "text/plain": [
              "<IPython.core.display.Image object>"
            ]
          },
          "metadata": {},
          "execution_count": 41
        }
      ]
    },
    {
      "cell_type": "code",
      "source": [
        "model.compile('adam',{'status_output':'categorical_crossentropy','rul_output':tf.keras.losses.MeanAbsoluteError()}\n",
        "              ,metrics={'status_output':['categorical_accuracy','Precision','Recall','AUC'],'rul_output':['mae','mse',tf.keras.metrics.RootMeanSquaredError(\n",
        "    name='root_mean_squared_error', dtype=None\n",
        "),'msle']})"
      ],
      "metadata": {
        "id": "pomySK860wdo"
      },
      "execution_count": null,
      "outputs": []
    },
    {
      "cell_type": "markdown",
      "source": [
        "#Setting learning rate to decrease if there is no improvement after 2 epochs"
      ],
      "metadata": {
        "id": "zz0HhkdlHEta"
      }
    },
    {
      "cell_type": "code",
      "source": [
        "from tensorflow.keras.callbacks import ReduceLROnPlateau\n",
        "lr=ReduceLROnPlateau(monitor='val_rul_output_loss',factor=0.05,patience=2)\n",
        "model_history = model.fit(x_train,[y_train1,y_train2],\n",
        "                            epochs=50, batch_size=400, validation_data=(x_test,[y_test1,y_test2]),callbacks=lr)"
      ],
      "metadata": {
        "colab": {
          "base_uri": "https://localhost:8080/"
        },
        "id": "3uEZUIW11WJd",
        "outputId": "28f6d193-a6cf-4f81-d7fa-2688d4aa5116"
      },
      "execution_count": null,
      "outputs": [
        {
          "output_type": "stream",
          "name": "stdout",
          "text": [
            "Epoch 1/50\n",
            "441/441 [==============================] - 5s 7ms/step - loss: 177.9030 - status_output_loss: 0.1563 - rul_output_loss: 177.7466 - status_output_categorical_accuracy: 0.9747 - status_output_precision: 0.9836 - status_output_recall: 0.9599 - status_output_auc: 0.9940 - rul_output_mae: 177.7466 - rul_output_mse: 65957.9453 - rul_output_root_mean_squared_error: 256.8228 - rul_output_msle: 3.5100 - val_loss: 138.3041 - val_status_output_loss: 0.0584 - val_rul_output_loss: 138.2457 - val_status_output_categorical_accuracy: 0.9726 - val_status_output_precision: 0.9738 - val_status_output_recall: 0.9708 - val_status_output_auc: 0.9987 - val_rul_output_mae: 138.2456 - val_rul_output_mse: 35810.7500 - val_rul_output_root_mean_squared_error: 189.2373 - val_rul_output_msle: 0.6678 - lr: 0.0010\n",
            "Epoch 2/50\n",
            "441/441 [==============================] - 2s 5ms/step - loss: 66.3839 - status_output_loss: 0.0193 - rul_output_loss: 66.3646 - status_output_categorical_accuracy: 0.9941 - status_output_precision: 0.9941 - status_output_recall: 0.9941 - status_output_auc: 0.9997 - rul_output_mae: 66.3646 - rul_output_mse: 9444.5908 - rul_output_root_mean_squared_error: 97.1833 - rul_output_msle: 0.5228 - val_loss: 49.9619 - val_status_output_loss: 0.0152 - val_rul_output_loss: 49.9468 - val_status_output_categorical_accuracy: 0.9943 - val_status_output_precision: 0.9943 - val_status_output_recall: 0.9943 - val_status_output_auc: 0.9999 - val_rul_output_mae: 49.9468 - val_rul_output_mse: 5774.9204 - val_rul_output_root_mean_squared_error: 75.9929 - val_rul_output_msle: 0.4200 - lr: 0.0010\n",
            "Epoch 3/50\n",
            "441/441 [==============================] - 4s 8ms/step - loss: 46.1717 - status_output_loss: 0.0134 - rul_output_loss: 46.1583 - status_output_categorical_accuracy: 0.9948 - status_output_precision: 0.9948 - status_output_recall: 0.9948 - status_output_auc: 0.9999 - rul_output_mae: 46.1583 - rul_output_mse: 4874.6440 - rul_output_root_mean_squared_error: 69.8186 - rul_output_msle: 0.3843 - val_loss: 33.8264 - val_status_output_loss: 0.0124 - val_rul_output_loss: 33.8140 - val_status_output_categorical_accuracy: 0.9951 - val_status_output_precision: 0.9951 - val_status_output_recall: 0.9950 - val_status_output_auc: 0.9999 - val_rul_output_mae: 33.8140 - val_rul_output_mse: 3285.2644 - val_rul_output_root_mean_squared_error: 57.3172 - val_rul_output_msle: 0.2851 - lr: 0.0010\n",
            "Epoch 4/50\n",
            "441/441 [==============================] - 4s 9ms/step - loss: 40.2582 - status_output_loss: 0.0126 - rul_output_loss: 40.2456 - status_output_categorical_accuracy: 0.9950 - status_output_precision: 0.9950 - status_output_recall: 0.9950 - status_output_auc: 0.9999 - rul_output_mae: 40.2456 - rul_output_mse: 3853.7539 - rul_output_root_mean_squared_error: 62.0786 - rul_output_msle: 0.3374 - val_loss: 35.2599 - val_status_output_loss: 0.0125 - val_rul_output_loss: 35.2473 - val_status_output_categorical_accuracy: 0.9949 - val_status_output_precision: 0.9949 - val_status_output_recall: 0.9949 - val_status_output_auc: 0.9999 - val_rul_output_mae: 35.2473 - val_rul_output_mse: 3470.4397 - val_rul_output_root_mean_squared_error: 58.9104 - val_rul_output_msle: 0.2449 - lr: 0.0010\n",
            "Epoch 5/50\n",
            "441/441 [==============================] - 3s 8ms/step - loss: 37.3416 - status_output_loss: 0.0115 - rul_output_loss: 37.3302 - status_output_categorical_accuracy: 0.9953 - status_output_precision: 0.9953 - status_output_recall: 0.9953 - status_output_auc: 0.9999 - rul_output_mae: 37.3302 - rul_output_mse: 3372.7214 - rul_output_root_mean_squared_error: 58.0751 - rul_output_msle: 0.3082 - val_loss: 27.3830 - val_status_output_loss: 0.0107 - val_rul_output_loss: 27.3724 - val_status_output_categorical_accuracy: 0.9952 - val_status_output_precision: 0.9953 - val_status_output_recall: 0.9952 - val_status_output_auc: 0.9999 - val_rul_output_mae: 27.3724 - val_rul_output_mse: 2270.3167 - val_rul_output_root_mean_squared_error: 47.6478 - val_rul_output_msle: 0.2117 - lr: 0.0010\n",
            "Epoch 6/50\n",
            "441/441 [==============================] - 2s 5ms/step - loss: 35.5827 - status_output_loss: 0.0108 - rul_output_loss: 35.5719 - status_output_categorical_accuracy: 0.9956 - status_output_precision: 0.9956 - status_output_recall: 0.9956 - status_output_auc: 0.9999 - rul_output_mae: 35.5719 - rul_output_mse: 3110.2476 - rul_output_root_mean_squared_error: 55.7696 - rul_output_msle: 0.2919 - val_loss: 24.5305 - val_status_output_loss: 0.0102 - val_rul_output_loss: 24.5203 - val_status_output_categorical_accuracy: 0.9958 - val_status_output_precision: 0.9958 - val_status_output_recall: 0.9958 - val_status_output_auc: 0.9999 - val_rul_output_mae: 24.5203 - val_rul_output_mse: 2259.7007 - val_rul_output_root_mean_squared_error: 47.5363 - val_rul_output_msle: 0.2226 - lr: 0.0010\n",
            "Epoch 7/50\n",
            "441/441 [==============================] - 2s 5ms/step - loss: 34.3665 - status_output_loss: 0.0101 - rul_output_loss: 34.3565 - status_output_categorical_accuracy: 0.9959 - status_output_precision: 0.9959 - status_output_recall: 0.9959 - status_output_auc: 0.9999 - rul_output_mae: 34.3565 - rul_output_mse: 2910.0876 - rul_output_root_mean_squared_error: 53.9452 - rul_output_msle: 0.2784 - val_loss: 25.2337 - val_status_output_loss: 0.0095 - val_rul_output_loss: 25.2242 - val_status_output_categorical_accuracy: 0.9954 - val_status_output_precision: 0.9954 - val_status_output_recall: 0.9954 - val_status_output_auc: 0.9999 - val_rul_output_mae: 25.2242 - val_rul_output_mse: 1922.7449 - val_rul_output_root_mean_squared_error: 43.8491 - val_rul_output_msle: 0.1926 - lr: 0.0010\n",
            "Epoch 8/50\n",
            "441/441 [==============================] - 2s 5ms/step - loss: 33.5025 - status_output_loss: 0.0094 - rul_output_loss: 33.4931 - status_output_categorical_accuracy: 0.9962 - status_output_precision: 0.9962 - status_output_recall: 0.9962 - status_output_auc: 0.9999 - rul_output_mae: 33.4931 - rul_output_mse: 2773.2356 - rul_output_root_mean_squared_error: 52.6615 - rul_output_msle: 0.2717 - val_loss: 29.1910 - val_status_output_loss: 0.0091 - val_rul_output_loss: 29.1819 - val_status_output_categorical_accuracy: 0.9964 - val_status_output_precision: 0.9964 - val_status_output_recall: 0.9963 - val_status_output_auc: 1.0000 - val_rul_output_mae: 29.1819 - val_rul_output_mse: 2159.6721 - val_rul_output_root_mean_squared_error: 46.4723 - val_rul_output_msle: 0.2547 - lr: 0.0010\n",
            "Epoch 9/50\n",
            "441/441 [==============================] - 2s 5ms/step - loss: 31.7132 - status_output_loss: 0.0082 - rul_output_loss: 31.7050 - status_output_categorical_accuracy: 0.9969 - status_output_precision: 0.9969 - status_output_recall: 0.9969 - status_output_auc: 0.9999 - rul_output_mae: 31.7050 - rul_output_mse: 2541.0486 - rul_output_root_mean_squared_error: 50.4088 - rul_output_msle: 0.2490 - val_loss: 19.3602 - val_status_output_loss: 0.0081 - val_rul_output_loss: 19.3521 - val_status_output_categorical_accuracy: 0.9967 - val_status_output_precision: 0.9967 - val_status_output_recall: 0.9967 - val_status_output_auc: 1.0000 - val_rul_output_mae: 19.3521 - val_rul_output_mse: 1574.0809 - val_rul_output_root_mean_squared_error: 39.6747 - val_rul_output_msle: 0.1523 - lr: 5.0000e-05\n",
            "Epoch 10/50\n",
            "441/441 [==============================] - 4s 8ms/step - loss: 31.6518 - status_output_loss: 0.0082 - rul_output_loss: 31.6436 - status_output_categorical_accuracy: 0.9968 - status_output_precision: 0.9968 - status_output_recall: 0.9968 - status_output_auc: 0.9999 - rul_output_mae: 31.6436 - rul_output_mse: 2533.9971 - rul_output_root_mean_squared_error: 50.3388 - rul_output_msle: 0.2410 - val_loss: 19.3165 - val_status_output_loss: 0.0080 - val_rul_output_loss: 19.3085 - val_status_output_categorical_accuracy: 0.9967 - val_status_output_precision: 0.9968 - val_status_output_recall: 0.9967 - val_status_output_auc: 1.0000 - val_rul_output_mae: 19.3085 - val_rul_output_mse: 1549.0529 - val_rul_output_root_mean_squared_error: 39.3580 - val_rul_output_msle: 0.1552 - lr: 5.0000e-05\n",
            "Epoch 11/50\n",
            "441/441 [==============================] - 4s 9ms/step - loss: 31.5755 - status_output_loss: 0.0081 - rul_output_loss: 31.5674 - status_output_categorical_accuracy: 0.9968 - status_output_precision: 0.9969 - status_output_recall: 0.9968 - status_output_auc: 0.9999 - rul_output_mae: 31.5674 - rul_output_mse: 2529.1013 - rul_output_root_mean_squared_error: 50.2902 - rul_output_msle: 0.2448 - val_loss: 18.9384 - val_status_output_loss: 0.0081 - val_rul_output_loss: 18.9304 - val_status_output_categorical_accuracy: 0.9968 - val_status_output_precision: 0.9968 - val_status_output_recall: 0.9967 - val_status_output_auc: 1.0000 - val_rul_output_mae: 18.9304 - val_rul_output_mse: 1544.7302 - val_rul_output_root_mean_squared_error: 39.3031 - val_rul_output_msle: 0.1521 - lr: 5.0000e-05\n",
            "Epoch 12/50\n",
            "441/441 [==============================] - 3s 8ms/step - loss: 31.6350 - status_output_loss: 0.0083 - rul_output_loss: 31.6267 - status_output_categorical_accuracy: 0.9968 - status_output_precision: 0.9968 - status_output_recall: 0.9968 - status_output_auc: 0.9999 - rul_output_mae: 31.6267 - rul_output_mse: 2531.2622 - rul_output_root_mean_squared_error: 50.3116 - rul_output_msle: 0.2407 - val_loss: 19.7040 - val_status_output_loss: 0.0081 - val_rul_output_loss: 19.6958 - val_status_output_categorical_accuracy: 0.9967 - val_status_output_precision: 0.9967 - val_status_output_recall: 0.9967 - val_status_output_auc: 1.0000 - val_rul_output_mae: 19.6958 - val_rul_output_mse: 1585.6100 - val_rul_output_root_mean_squared_error: 39.8197 - val_rul_output_msle: 0.1538 - lr: 5.0000e-05\n",
            "Epoch 13/50\n",
            "441/441 [==============================] - 2s 5ms/step - loss: 31.5028 - status_output_loss: 0.0083 - rul_output_loss: 31.4944 - status_output_categorical_accuracy: 0.9966 - status_output_precision: 0.9967 - status_output_recall: 0.9966 - status_output_auc: 0.9999 - rul_output_mae: 31.4944 - rul_output_mse: 2525.8579 - rul_output_root_mean_squared_error: 50.2579 - rul_output_msle: 0.2408 - val_loss: 18.9377 - val_status_output_loss: 0.0081 - val_rul_output_loss: 18.9296 - val_status_output_categorical_accuracy: 0.9968 - val_status_output_precision: 0.9968 - val_status_output_recall: 0.9968 - val_status_output_auc: 1.0000 - val_rul_output_mae: 18.9296 - val_rul_output_mse: 1524.4103 - val_rul_output_root_mean_squared_error: 39.0437 - val_rul_output_msle: 0.1476 - lr: 5.0000e-05\n",
            "Epoch 14/50\n",
            "441/441 [==============================] - 2s 5ms/step - loss: 31.5168 - status_output_loss: 0.0082 - rul_output_loss: 31.5086 - status_output_categorical_accuracy: 0.9967 - status_output_precision: 0.9967 - status_output_recall: 0.9967 - status_output_auc: 0.9999 - rul_output_mae: 31.5086 - rul_output_mse: 2507.7493 - rul_output_root_mean_squared_error: 50.0774 - rul_output_msle: 0.2398 - val_loss: 19.4090 - val_status_output_loss: 0.0079 - val_rul_output_loss: 19.4011 - val_status_output_categorical_accuracy: 0.9968 - val_status_output_precision: 0.9968 - val_status_output_recall: 0.9968 - val_status_output_auc: 1.0000 - val_rul_output_mae: 19.4011 - val_rul_output_mse: 1541.1770 - val_rul_output_root_mean_squared_error: 39.2578 - val_rul_output_msle: 0.1619 - lr: 5.0000e-05\n",
            "Epoch 15/50\n",
            "441/441 [==============================] - 2s 5ms/step - loss: 31.4422 - status_output_loss: 0.0083 - rul_output_loss: 31.4340 - status_output_categorical_accuracy: 0.9967 - status_output_precision: 0.9967 - status_output_recall: 0.9967 - status_output_auc: 0.9999 - rul_output_mae: 31.4340 - rul_output_mse: 2494.9568 - rul_output_root_mean_squared_error: 49.9495 - rul_output_msle: 0.2382 - val_loss: 18.5978 - val_status_output_loss: 0.0080 - val_rul_output_loss: 18.5898 - val_status_output_categorical_accuracy: 0.9968 - val_status_output_precision: 0.9968 - val_status_output_recall: 0.9967 - val_status_output_auc: 1.0000 - val_rul_output_mae: 18.5898 - val_rul_output_mse: 1511.1793 - val_rul_output_root_mean_squared_error: 38.8739 - val_rul_output_msle: 0.1495 - lr: 5.0000e-05\n",
            "Epoch 16/50\n",
            "441/441 [==============================] - 2s 5ms/step - loss: 31.3493 - status_output_loss: 0.0081 - rul_output_loss: 31.3412 - status_output_categorical_accuracy: 0.9967 - status_output_precision: 0.9967 - status_output_recall: 0.9967 - status_output_auc: 1.0000 - rul_output_mae: 31.3412 - rul_output_mse: 2487.9678 - rul_output_root_mean_squared_error: 49.8795 - rul_output_msle: 0.2405 - val_loss: 18.8336 - val_status_output_loss: 0.0079 - val_rul_output_loss: 18.8257 - val_status_output_categorical_accuracy: 0.9967 - val_status_output_precision: 0.9967 - val_status_output_recall: 0.9967 - val_status_output_auc: 1.0000 - val_rul_output_mae: 18.8257 - val_rul_output_mse: 1540.7266 - val_rul_output_root_mean_squared_error: 39.2521 - val_rul_output_msle: 0.1502 - lr: 5.0000e-05\n",
            "Epoch 17/50\n",
            "441/441 [==============================] - 4s 9ms/step - loss: 31.2242 - status_output_loss: 0.0080 - rul_output_loss: 31.2162 - status_output_categorical_accuracy: 0.9969 - status_output_precision: 0.9970 - status_output_recall: 0.9969 - status_output_auc: 0.9999 - rul_output_mae: 31.2162 - rul_output_mse: 2472.0493 - rul_output_root_mean_squared_error: 49.7197 - rul_output_msle: 0.2393 - val_loss: 18.7721 - val_status_output_loss: 0.0079 - val_rul_output_loss: 18.7642 - val_status_output_categorical_accuracy: 0.9967 - val_status_output_precision: 0.9967 - val_status_output_recall: 0.9966 - val_status_output_auc: 1.0000 - val_rul_output_mae: 18.7642 - val_rul_output_mse: 1534.7585 - val_rul_output_root_mean_squared_error: 39.1760 - val_rul_output_msle: 0.1417 - lr: 5.0000e-05\n",
            "Epoch 18/50\n",
            "441/441 [==============================] - 4s 9ms/step - loss: 31.3353 - status_output_loss: 0.0080 - rul_output_loss: 31.3273 - status_output_categorical_accuracy: 0.9969 - status_output_precision: 0.9969 - status_output_recall: 0.9969 - status_output_auc: 0.9999 - rul_output_mae: 31.3273 - rul_output_mse: 2477.9485 - rul_output_root_mean_squared_error: 49.7790 - rul_output_msle: 0.2345 - val_loss: 18.8927 - val_status_output_loss: 0.0078 - val_rul_output_loss: 18.8848 - val_status_output_categorical_accuracy: 0.9968 - val_status_output_precision: 0.9968 - val_status_output_recall: 0.9968 - val_status_output_auc: 1.0000 - val_rul_output_mae: 18.8848 - val_rul_output_mse: 1521.6917 - val_rul_output_root_mean_squared_error: 39.0089 - val_rul_output_msle: 0.1469 - lr: 2.5000e-06\n",
            "Epoch 19/50\n",
            "441/441 [==============================] - 3s 7ms/step - loss: 31.3923 - status_output_loss: 0.0079 - rul_output_loss: 31.3843 - status_output_categorical_accuracy: 0.9969 - status_output_precision: 0.9969 - status_output_recall: 0.9969 - status_output_auc: 1.0000 - rul_output_mae: 31.3843 - rul_output_mse: 2484.8530 - rul_output_root_mean_squared_error: 49.8483 - rul_output_msle: 0.2381 - val_loss: 18.8230 - val_status_output_loss: 0.0078 - val_rul_output_loss: 18.8152 - val_status_output_categorical_accuracy: 0.9969 - val_status_output_precision: 0.9969 - val_status_output_recall: 0.9969 - val_status_output_auc: 1.0000 - val_rul_output_mae: 18.8152 - val_rul_output_mse: 1512.9205 - val_rul_output_root_mean_squared_error: 38.8963 - val_rul_output_msle: 0.1468 - lr: 2.5000e-06\n",
            "Epoch 20/50\n",
            "441/441 [==============================] - 2s 5ms/step - loss: 31.2864 - status_output_loss: 0.0080 - rul_output_loss: 31.2785 - status_output_categorical_accuracy: 0.9969 - status_output_precision: 0.9969 - status_output_recall: 0.9969 - status_output_auc: 0.9999 - rul_output_mae: 31.2785 - rul_output_mse: 2477.9019 - rul_output_root_mean_squared_error: 49.7785 - rul_output_msle: 0.2331 - val_loss: 18.7039 - val_status_output_loss: 0.0078 - val_rul_output_loss: 18.6961 - val_status_output_categorical_accuracy: 0.9969 - val_status_output_precision: 0.9969 - val_status_output_recall: 0.9969 - val_status_output_auc: 1.0000 - val_rul_output_mae: 18.6961 - val_rul_output_mse: 1510.7472 - val_rul_output_root_mean_squared_error: 38.8683 - val_rul_output_msle: 0.1469 - lr: 1.2500e-07\n",
            "Epoch 21/50\n",
            "441/441 [==============================] - 2s 5ms/step - loss: 31.3968 - status_output_loss: 0.0079 - rul_output_loss: 31.3889 - status_output_categorical_accuracy: 0.9970 - status_output_precision: 0.9970 - status_output_recall: 0.9969 - status_output_auc: 0.9999 - rul_output_mae: 31.3889 - rul_output_mse: 2502.7434 - rul_output_root_mean_squared_error: 50.0274 - rul_output_msle: 0.2363 - val_loss: 18.7129 - val_status_output_loss: 0.0078 - val_rul_output_loss: 18.7051 - val_status_output_categorical_accuracy: 0.9969 - val_status_output_precision: 0.9969 - val_status_output_recall: 0.9968 - val_status_output_auc: 1.0000 - val_rul_output_mae: 18.7051 - val_rul_output_mse: 1512.5919 - val_rul_output_root_mean_squared_error: 38.8921 - val_rul_output_msle: 0.1468 - lr: 1.2500e-07\n",
            "Epoch 22/50\n",
            "441/441 [==============================] - 2s 5ms/step - loss: 31.3478 - status_output_loss: 0.0080 - rul_output_loss: 31.3399 - status_output_categorical_accuracy: 0.9969 - status_output_precision: 0.9969 - status_output_recall: 0.9969 - status_output_auc: 0.9999 - rul_output_mae: 31.3399 - rul_output_mse: 2476.4578 - rul_output_root_mean_squared_error: 49.7640 - rul_output_msle: 0.2401 - val_loss: 18.7855 - val_status_output_loss: 0.0078 - val_rul_output_loss: 18.7777 - val_status_output_categorical_accuracy: 0.9969 - val_status_output_precision: 0.9969 - val_status_output_recall: 0.9968 - val_status_output_auc: 1.0000 - val_rul_output_mae: 18.7777 - val_rul_output_mse: 1513.6465 - val_rul_output_root_mean_squared_error: 38.9056 - val_rul_output_msle: 0.1467 - lr: 6.2500e-09\n",
            "Epoch 23/50\n",
            "441/441 [==============================] - 3s 7ms/step - loss: 31.4732 - status_output_loss: 0.0079 - rul_output_loss: 31.4654 - status_output_categorical_accuracy: 0.9969 - status_output_precision: 0.9969 - status_output_recall: 0.9969 - status_output_auc: 0.9999 - rul_output_mae: 31.4654 - rul_output_mse: 2510.7544 - rul_output_root_mean_squared_error: 50.1074 - rul_output_msle: 0.2386 - val_loss: 18.6783 - val_status_output_loss: 0.0078 - val_rul_output_loss: 18.6704 - val_status_output_categorical_accuracy: 0.9968 - val_status_output_precision: 0.9968 - val_status_output_recall: 0.9968 - val_status_output_auc: 1.0000 - val_rul_output_mae: 18.6704 - val_rul_output_mse: 1510.6085 - val_rul_output_root_mean_squared_error: 38.8665 - val_rul_output_msle: 0.1468 - lr: 6.2500e-09\n",
            "Epoch 24/50\n",
            "441/441 [==============================] - 4s 9ms/step - loss: 31.3985 - status_output_loss: 0.0080 - rul_output_loss: 31.3906 - status_output_categorical_accuracy: 0.9970 - status_output_precision: 0.9970 - status_output_recall: 0.9970 - status_output_auc: 0.9999 - rul_output_mae: 31.3906 - rul_output_mse: 2486.4543 - rul_output_root_mean_squared_error: 49.8644 - rul_output_msle: 0.2386 - val_loss: 18.6967 - val_status_output_loss: 0.0078 - val_rul_output_loss: 18.6889 - val_status_output_categorical_accuracy: 0.9968 - val_status_output_precision: 0.9968 - val_status_output_recall: 0.9968 - val_status_output_auc: 1.0000 - val_rul_output_mae: 18.6889 - val_rul_output_mse: 1506.6157 - val_rul_output_root_mean_squared_error: 38.8151 - val_rul_output_msle: 0.1472 - lr: 3.1250e-10\n",
            "Epoch 25/50\n",
            "441/441 [==============================] - 4s 9ms/step - loss: 31.1461 - status_output_loss: 0.0079 - rul_output_loss: 31.1382 - status_output_categorical_accuracy: 0.9970 - status_output_precision: 0.9970 - status_output_recall: 0.9970 - status_output_auc: 0.9999 - rul_output_mae: 31.1382 - rul_output_mse: 2456.2559 - rul_output_root_mean_squared_error: 49.5606 - rul_output_msle: 0.2356 - val_loss: 18.7372 - val_status_output_loss: 0.0079 - val_rul_output_loss: 18.7293 - val_status_output_categorical_accuracy: 0.9968 - val_status_output_precision: 0.9968 - val_status_output_recall: 0.9968 - val_status_output_auc: 1.0000 - val_rul_output_mae: 18.7293 - val_rul_output_mse: 1513.0499 - val_rul_output_root_mean_squared_error: 38.8979 - val_rul_output_msle: 0.1468 - lr: 3.1250e-10\n",
            "Epoch 26/50\n",
            "441/441 [==============================] - 3s 6ms/step - loss: 31.2315 - status_output_loss: 0.0080 - rul_output_loss: 31.2235 - status_output_categorical_accuracy: 0.9968 - status_output_precision: 0.9968 - status_output_recall: 0.9968 - status_output_auc: 0.9999 - rul_output_mae: 31.2235 - rul_output_mse: 2470.0615 - rul_output_root_mean_squared_error: 49.6997 - rul_output_msle: 0.2394 - val_loss: 18.6716 - val_status_output_loss: 0.0078 - val_rul_output_loss: 18.6638 - val_status_output_categorical_accuracy: 0.9968 - val_status_output_precision: 0.9968 - val_status_output_recall: 0.9968 - val_status_output_auc: 1.0000 - val_rul_output_mae: 18.6638 - val_rul_output_mse: 1507.7040 - val_rul_output_root_mean_squared_error: 38.8292 - val_rul_output_msle: 0.1464 - lr: 1.5625e-11\n",
            "Epoch 27/50\n",
            "441/441 [==============================] - 2s 5ms/step - loss: 31.2332 - status_output_loss: 0.0080 - rul_output_loss: 31.2253 - status_output_categorical_accuracy: 0.9969 - status_output_precision: 0.9969 - status_output_recall: 0.9969 - status_output_auc: 1.0000 - rul_output_mae: 31.2253 - rul_output_mse: 2477.1096 - rul_output_root_mean_squared_error: 49.7706 - rul_output_msle: 0.2350 - val_loss: 18.8848 - val_status_output_loss: 0.0079 - val_rul_output_loss: 18.8770 - val_status_output_categorical_accuracy: 0.9968 - val_status_output_precision: 0.9968 - val_status_output_recall: 0.9968 - val_status_output_auc: 1.0000 - val_rul_output_mae: 18.8769 - val_rul_output_mse: 1517.9000 - val_rul_output_root_mean_squared_error: 38.9602 - val_rul_output_msle: 0.1474 - lr: 1.5625e-11\n",
            "Epoch 28/50\n",
            "441/441 [==============================] - 2s 5ms/step - loss: 31.3979 - status_output_loss: 0.0079 - rul_output_loss: 31.3900 - status_output_categorical_accuracy: 0.9969 - status_output_precision: 0.9969 - status_output_recall: 0.9969 - status_output_auc: 1.0000 - rul_output_mae: 31.3900 - rul_output_mse: 2492.9998 - rul_output_root_mean_squared_error: 49.9299 - rul_output_msle: 0.2377 - val_loss: 18.7336 - val_status_output_loss: 0.0078 - val_rul_output_loss: 18.7257 - val_status_output_categorical_accuracy: 0.9968 - val_status_output_precision: 0.9968 - val_status_output_recall: 0.9968 - val_status_output_auc: 1.0000 - val_rul_output_mae: 18.7257 - val_rul_output_mse: 1517.5549 - val_rul_output_root_mean_squared_error: 38.9558 - val_rul_output_msle: 0.1469 - lr: 7.8125e-13\n",
            "Epoch 29/50\n",
            "441/441 [==============================] - 2s 5ms/step - loss: 31.3235 - status_output_loss: 0.0080 - rul_output_loss: 31.3155 - status_output_categorical_accuracy: 0.9968 - status_output_precision: 0.9968 - status_output_recall: 0.9968 - status_output_auc: 0.9999 - rul_output_mae: 31.3155 - rul_output_mse: 2484.3977 - rul_output_root_mean_squared_error: 49.8437 - rul_output_msle: 0.2391 - val_loss: 18.7140 - val_status_output_loss: 0.0078 - val_rul_output_loss: 18.7061 - val_status_output_categorical_accuracy: 0.9968 - val_status_output_precision: 0.9968 - val_status_output_recall: 0.9968 - val_status_output_auc: 1.0000 - val_rul_output_mae: 18.7061 - val_rul_output_mse: 1513.0649 - val_rul_output_root_mean_squared_error: 38.8981 - val_rul_output_msle: 0.1467 - lr: 7.8125e-13\n",
            "Epoch 30/50\n",
            "441/441 [==============================] - 4s 8ms/step - loss: 31.3348 - status_output_loss: 0.0079 - rul_output_loss: 31.3269 - status_output_categorical_accuracy: 0.9970 - status_output_precision: 0.9970 - status_output_recall: 0.9970 - status_output_auc: 0.9999 - rul_output_mae: 31.3269 - rul_output_mse: 2497.0864 - rul_output_root_mean_squared_error: 49.9709 - rul_output_msle: 0.2349 - val_loss: 18.6659 - val_status_output_loss: 0.0078 - val_rul_output_loss: 18.6580 - val_status_output_categorical_accuracy: 0.9968 - val_status_output_precision: 0.9968 - val_status_output_recall: 0.9968 - val_status_output_auc: 1.0000 - val_rul_output_mae: 18.6580 - val_rul_output_mse: 1507.0885 - val_rul_output_root_mean_squared_error: 38.8212 - val_rul_output_msle: 0.1469 - lr: 3.9063e-14\n",
            "Epoch 31/50\n",
            "441/441 [==============================] - 4s 9ms/step - loss: 31.2436 - status_output_loss: 0.0080 - rul_output_loss: 31.2356 - status_output_categorical_accuracy: 0.9970 - status_output_precision: 0.9970 - status_output_recall: 0.9969 - status_output_auc: 0.9999 - rul_output_mae: 31.2356 - rul_output_mse: 2473.3035 - rul_output_root_mean_squared_error: 49.7323 - rul_output_msle: 0.2370 - val_loss: 18.7615 - val_status_output_loss: 0.0078 - val_rul_output_loss: 18.7536 - val_status_output_categorical_accuracy: 0.9968 - val_status_output_precision: 0.9968 - val_status_output_recall: 0.9968 - val_status_output_auc: 1.0000 - val_rul_output_mae: 18.7536 - val_rul_output_mse: 1519.6719 - val_rul_output_root_mean_squared_error: 38.9830 - val_rul_output_msle: 0.1470 - lr: 3.9063e-14\n",
            "Epoch 32/50\n",
            "441/441 [==============================] - 4s 8ms/step - loss: 31.3557 - status_output_loss: 0.0078 - rul_output_loss: 31.3478 - status_output_categorical_accuracy: 0.9970 - status_output_precision: 0.9970 - status_output_recall: 0.9970 - status_output_auc: 0.9999 - rul_output_mae: 31.3478 - rul_output_mse: 2480.9653 - rul_output_root_mean_squared_error: 49.8093 - rul_output_msle: 0.2408 - val_loss: 18.6776 - val_status_output_loss: 0.0079 - val_rul_output_loss: 18.6698 - val_status_output_categorical_accuracy: 0.9968 - val_status_output_precision: 0.9968 - val_status_output_recall: 0.9968 - val_status_output_auc: 1.0000 - val_rul_output_mae: 18.6698 - val_rul_output_mse: 1509.2101 - val_rul_output_root_mean_squared_error: 38.8486 - val_rul_output_msle: 0.1459 - lr: 1.9531e-15\n",
            "Epoch 33/50\n",
            "441/441 [==============================] - 2s 5ms/step - loss: 31.2918 - status_output_loss: 0.0079 - rul_output_loss: 31.2838 - status_output_categorical_accuracy: 0.9969 - status_output_precision: 0.9969 - status_output_recall: 0.9969 - status_output_auc: 0.9999 - rul_output_mae: 31.2838 - rul_output_mse: 2466.6829 - rul_output_root_mean_squared_error: 49.6657 - rul_output_msle: 0.2413 - val_loss: 18.5394 - val_status_output_loss: 0.0078 - val_rul_output_loss: 18.5315 - val_status_output_categorical_accuracy: 0.9968 - val_status_output_precision: 0.9968 - val_status_output_recall: 0.9968 - val_status_output_auc: 1.0000 - val_rul_output_mae: 18.5315 - val_rul_output_mse: 1505.5931 - val_rul_output_root_mean_squared_error: 38.8020 - val_rul_output_msle: 0.1461 - lr: 1.9531e-15\n",
            "Epoch 34/50\n",
            "441/441 [==============================] - 2s 5ms/step - loss: 31.2834 - status_output_loss: 0.0079 - rul_output_loss: 31.2754 - status_output_categorical_accuracy: 0.9969 - status_output_precision: 0.9969 - status_output_recall: 0.9969 - status_output_auc: 0.9999 - rul_output_mae: 31.2754 - rul_output_mse: 2476.8948 - rul_output_root_mean_squared_error: 49.7684 - rul_output_msle: 0.2367 - val_loss: 18.6795 - val_status_output_loss: 0.0078 - val_rul_output_loss: 18.6717 - val_status_output_categorical_accuracy: 0.9968 - val_status_output_precision: 0.9968 - val_status_output_recall: 0.9968 - val_status_output_auc: 1.0000 - val_rul_output_mae: 18.6717 - val_rul_output_mse: 1507.0092 - val_rul_output_root_mean_squared_error: 38.8202 - val_rul_output_msle: 0.1469 - lr: 1.9531e-15\n",
            "Epoch 35/50\n",
            "441/441 [==============================] - 2s 5ms/step - loss: 31.3318 - status_output_loss: 0.0079 - rul_output_loss: 31.3239 - status_output_categorical_accuracy: 0.9969 - status_output_precision: 0.9969 - status_output_recall: 0.9969 - status_output_auc: 1.0000 - rul_output_mae: 31.3239 - rul_output_mse: 2486.4175 - rul_output_root_mean_squared_error: 49.8640 - rul_output_msle: 0.2370 - val_loss: 18.6765 - val_status_output_loss: 0.0078 - val_rul_output_loss: 18.6687 - val_status_output_categorical_accuracy: 0.9968 - val_status_output_precision: 0.9968 - val_status_output_recall: 0.9967 - val_status_output_auc: 1.0000 - val_rul_output_mae: 18.6687 - val_rul_output_mse: 1509.8644 - val_rul_output_root_mean_squared_error: 38.8570 - val_rul_output_msle: 0.1467 - lr: 1.9531e-15\n",
            "Epoch 36/50\n",
            "441/441 [==============================] - 2s 5ms/step - loss: 31.3480 - status_output_loss: 0.0079 - rul_output_loss: 31.3402 - status_output_categorical_accuracy: 0.9969 - status_output_precision: 0.9969 - status_output_recall: 0.9969 - status_output_auc: 1.0000 - rul_output_mae: 31.3402 - rul_output_mse: 2483.4480 - rul_output_root_mean_squared_error: 49.8342 - rul_output_msle: 0.2383 - val_loss: 18.5473 - val_status_output_loss: 0.0078 - val_rul_output_loss: 18.5395 - val_status_output_categorical_accuracy: 0.9968 - val_status_output_precision: 0.9968 - val_status_output_recall: 0.9967 - val_status_output_auc: 1.0000 - val_rul_output_mae: 18.5395 - val_rul_output_mse: 1501.7997 - val_rul_output_root_mean_squared_error: 38.7531 - val_rul_output_msle: 0.1459 - lr: 9.7656e-17\n",
            "Epoch 37/50\n",
            "441/441 [==============================] - 4s 9ms/step - loss: 31.3392 - status_output_loss: 0.0080 - rul_output_loss: 31.3312 - status_output_categorical_accuracy: 0.9968 - status_output_precision: 0.9968 - status_output_recall: 0.9968 - status_output_auc: 0.9999 - rul_output_mae: 31.3312 - rul_output_mse: 2496.0237 - rul_output_root_mean_squared_error: 49.9602 - rul_output_msle: 0.2393 - val_loss: 18.7705 - val_status_output_loss: 0.0078 - val_rul_output_loss: 18.7627 - val_status_output_categorical_accuracy: 0.9968 - val_status_output_precision: 0.9968 - val_status_output_recall: 0.9968 - val_status_output_auc: 1.0000 - val_rul_output_mae: 18.7627 - val_rul_output_mse: 1513.2767 - val_rul_output_root_mean_squared_error: 38.9009 - val_rul_output_msle: 0.1468 - lr: 9.7656e-17\n",
            "Epoch 38/50\n",
            "441/441 [==============================] - 4s 8ms/step - loss: 31.4264 - status_output_loss: 0.0079 - rul_output_loss: 31.4185 - status_output_categorical_accuracy: 0.9969 - status_output_precision: 0.9969 - status_output_recall: 0.9969 - status_output_auc: 0.9999 - rul_output_mae: 31.4185 - rul_output_mse: 2495.6550 - rul_output_root_mean_squared_error: 49.9565 - rul_output_msle: 0.2418 - val_loss: 18.5831 - val_status_output_loss: 0.0078 - val_rul_output_loss: 18.5753 - val_status_output_categorical_accuracy: 0.9969 - val_status_output_precision: 0.9969 - val_status_output_recall: 0.9969 - val_status_output_auc: 1.0000 - val_rul_output_mae: 18.5753 - val_rul_output_mse: 1507.9122 - val_rul_output_root_mean_squared_error: 38.8318 - val_rul_output_msle: 0.1465 - lr: 4.8828e-18\n",
            "Epoch 39/50\n",
            "441/441 [==============================] - 4s 8ms/step - loss: 31.4352 - status_output_loss: 0.0079 - rul_output_loss: 31.4273 - status_output_categorical_accuracy: 0.9970 - status_output_precision: 0.9970 - status_output_recall: 0.9970 - status_output_auc: 0.9999 - rul_output_mae: 31.4273 - rul_output_mse: 2501.9866 - rul_output_root_mean_squared_error: 50.0199 - rul_output_msle: 0.2364 - val_loss: 18.5907 - val_status_output_loss: 0.0078 - val_rul_output_loss: 18.5828 - val_status_output_categorical_accuracy: 0.9968 - val_status_output_precision: 0.9968 - val_status_output_recall: 0.9968 - val_status_output_auc: 1.0000 - val_rul_output_mae: 18.5828 - val_rul_output_mse: 1506.9895 - val_rul_output_root_mean_squared_error: 38.8200 - val_rul_output_msle: 0.1459 - lr: 4.8828e-18\n",
            "Epoch 40/50\n",
            "441/441 [==============================] - 2s 5ms/step - loss: 31.2630 - status_output_loss: 0.0080 - rul_output_loss: 31.2550 - status_output_categorical_accuracy: 0.9969 - status_output_precision: 0.9969 - status_output_recall: 0.9969 - status_output_auc: 0.9999 - rul_output_mae: 31.2550 - rul_output_mse: 2473.3745 - rul_output_root_mean_squared_error: 49.7330 - rul_output_msle: 0.2393 - val_loss: 18.8584 - val_status_output_loss: 0.0079 - val_rul_output_loss: 18.8505 - val_status_output_categorical_accuracy: 0.9968 - val_status_output_precision: 0.9968 - val_status_output_recall: 0.9968 - val_status_output_auc: 1.0000 - val_rul_output_mae: 18.8505 - val_rul_output_mse: 1515.4164 - val_rul_output_root_mean_squared_error: 38.9283 - val_rul_output_msle: 0.1470 - lr: 2.4414e-19\n",
            "Epoch 41/50\n",
            "441/441 [==============================] - 2s 6ms/step - loss: 31.3419 - status_output_loss: 0.0079 - rul_output_loss: 31.3340 - status_output_categorical_accuracy: 0.9970 - status_output_precision: 0.9970 - status_output_recall: 0.9970 - status_output_auc: 0.9999 - rul_output_mae: 31.3340 - rul_output_mse: 2488.9570 - rul_output_root_mean_squared_error: 49.8894 - rul_output_msle: 0.2401 - val_loss: 18.9235 - val_status_output_loss: 0.0078 - val_rul_output_loss: 18.9157 - val_status_output_categorical_accuracy: 0.9968 - val_status_output_precision: 0.9968 - val_status_output_recall: 0.9968 - val_status_output_auc: 1.0000 - val_rul_output_mae: 18.9157 - val_rul_output_mse: 1528.3101 - val_rul_output_root_mean_squared_error: 39.0936 - val_rul_output_msle: 0.1475 - lr: 2.4414e-19\n",
            "Epoch 42/50\n",
            "441/441 [==============================] - 2s 5ms/step - loss: 31.3623 - status_output_loss: 0.0079 - rul_output_loss: 31.3543 - status_output_categorical_accuracy: 0.9968 - status_output_precision: 0.9968 - status_output_recall: 0.9968 - status_output_auc: 0.9999 - rul_output_mae: 31.3543 - rul_output_mse: 2480.5847 - rul_output_root_mean_squared_error: 49.8055 - rul_output_msle: 0.2412 - val_loss: 18.7450 - val_status_output_loss: 0.0078 - val_rul_output_loss: 18.7372 - val_status_output_categorical_accuracy: 0.9968 - val_status_output_precision: 0.9968 - val_status_output_recall: 0.9968 - val_status_output_auc: 1.0000 - val_rul_output_mae: 18.7372 - val_rul_output_mse: 1512.0448 - val_rul_output_root_mean_squared_error: 38.8850 - val_rul_output_msle: 0.1466 - lr: 1.2207e-20\n",
            "Epoch 43/50\n",
            "441/441 [==============================] - 2s 5ms/step - loss: 31.3684 - status_output_loss: 0.0079 - rul_output_loss: 31.3605 - status_output_categorical_accuracy: 0.9970 - status_output_precision: 0.9970 - status_output_recall: 0.9970 - status_output_auc: 0.9999 - rul_output_mae: 31.3605 - rul_output_mse: 2488.2307 - rul_output_root_mean_squared_error: 49.8822 - rul_output_msle: 0.2372 - val_loss: 18.7483 - val_status_output_loss: 0.0079 - val_rul_output_loss: 18.7405 - val_status_output_categorical_accuracy: 0.9968 - val_status_output_precision: 0.9968 - val_status_output_recall: 0.9967 - val_status_output_auc: 1.0000 - val_rul_output_mae: 18.7405 - val_rul_output_mse: 1516.6085 - val_rul_output_root_mean_squared_error: 38.9437 - val_rul_output_msle: 0.1461 - lr: 1.2207e-20\n",
            "Epoch 44/50\n",
            "441/441 [==============================] - 4s 9ms/step - loss: 31.3135 - status_output_loss: 0.0079 - rul_output_loss: 31.3056 - status_output_categorical_accuracy: 0.9970 - status_output_precision: 0.9970 - status_output_recall: 0.9970 - status_output_auc: 0.9999 - rul_output_mae: 31.3056 - rul_output_mse: 2487.7373 - rul_output_root_mean_squared_error: 49.8772 - rul_output_msle: 0.2398 - val_loss: 18.6855 - val_status_output_loss: 0.0079 - val_rul_output_loss: 18.6776 - val_status_output_categorical_accuracy: 0.9968 - val_status_output_precision: 0.9968 - val_status_output_recall: 0.9968 - val_status_output_auc: 1.0000 - val_rul_output_mae: 18.6776 - val_rul_output_mse: 1510.9816 - val_rul_output_root_mean_squared_error: 38.8713 - val_rul_output_msle: 0.1461 - lr: 6.1035e-22\n",
            "Epoch 45/50\n",
            "441/441 [==============================] - 4s 9ms/step - loss: 31.3289 - status_output_loss: 0.0079 - rul_output_loss: 31.3210 - status_output_categorical_accuracy: 0.9970 - status_output_precision: 0.9970 - status_output_recall: 0.9970 - status_output_auc: 0.9999 - rul_output_mae: 31.3210 - rul_output_mse: 2476.4700 - rul_output_root_mean_squared_error: 49.7641 - rul_output_msle: 0.2390 - val_loss: 18.7024 - val_status_output_loss: 0.0078 - val_rul_output_loss: 18.6946 - val_status_output_categorical_accuracy: 0.9969 - val_status_output_precision: 0.9969 - val_status_output_recall: 0.9968 - val_status_output_auc: 1.0000 - val_rul_output_mae: 18.6946 - val_rul_output_mse: 1509.8781 - val_rul_output_root_mean_squared_error: 38.8572 - val_rul_output_msle: 0.1471 - lr: 6.1035e-22\n",
            "Epoch 46/50\n",
            "441/441 [==============================] - 5s 12ms/step - loss: 31.4425 - status_output_loss: 0.0080 - rul_output_loss: 31.4345 - status_output_categorical_accuracy: 0.9969 - status_output_precision: 0.9970 - status_output_recall: 0.9969 - status_output_auc: 0.9999 - rul_output_mae: 31.4345 - rul_output_mse: 2491.9619 - rul_output_root_mean_squared_error: 49.9196 - rul_output_msle: 0.2410 - val_loss: 18.7029 - val_status_output_loss: 0.0079 - val_rul_output_loss: 18.6950 - val_status_output_categorical_accuracy: 0.9968 - val_status_output_precision: 0.9968 - val_status_output_recall: 0.9968 - val_status_output_auc: 1.0000 - val_rul_output_mae: 18.6950 - val_rul_output_mse: 1512.4015 - val_rul_output_root_mean_squared_error: 38.8896 - val_rul_output_msle: 0.1465 - lr: 3.0518e-23\n",
            "Epoch 47/50\n",
            "441/441 [==============================] - 3s 6ms/step - loss: 31.1914 - status_output_loss: 0.0079 - rul_output_loss: 31.1834 - status_output_categorical_accuracy: 0.9969 - status_output_precision: 0.9969 - status_output_recall: 0.9969 - status_output_auc: 1.0000 - rul_output_mae: 31.1834 - rul_output_mse: 2463.9187 - rul_output_root_mean_squared_error: 49.6379 - rul_output_msle: 0.2346 - val_loss: 18.7284 - val_status_output_loss: 0.0078 - val_rul_output_loss: 18.7206 - val_status_output_categorical_accuracy: 0.9969 - val_status_output_precision: 0.9969 - val_status_output_recall: 0.9969 - val_status_output_auc: 1.0000 - val_rul_output_mae: 18.7206 - val_rul_output_mse: 1511.1287 - val_rul_output_root_mean_squared_error: 38.8732 - val_rul_output_msle: 0.1468 - lr: 3.0518e-23\n",
            "Epoch 48/50\n",
            "441/441 [==============================] - 2s 6ms/step - loss: 31.3503 - status_output_loss: 0.0079 - rul_output_loss: 31.3424 - status_output_categorical_accuracy: 0.9969 - status_output_precision: 0.9969 - status_output_recall: 0.9969 - status_output_auc: 0.9999 - rul_output_mae: 31.3424 - rul_output_mse: 2476.3254 - rul_output_root_mean_squared_error: 49.7627 - rul_output_msle: 0.2403 - val_loss: 18.6271 - val_status_output_loss: 0.0078 - val_rul_output_loss: 18.6193 - val_status_output_categorical_accuracy: 0.9968 - val_status_output_precision: 0.9968 - val_status_output_recall: 0.9968 - val_status_output_auc: 1.0000 - val_rul_output_mae: 18.6193 - val_rul_output_mse: 1508.8340 - val_rul_output_root_mean_squared_error: 38.8437 - val_rul_output_msle: 0.1461 - lr: 1.5259e-24\n",
            "Epoch 49/50\n",
            "441/441 [==============================] - 2s 6ms/step - loss: 31.3028 - status_output_loss: 0.0080 - rul_output_loss: 31.2948 - status_output_categorical_accuracy: 0.9970 - status_output_precision: 0.9970 - status_output_recall: 0.9970 - status_output_auc: 0.9999 - rul_output_mae: 31.2948 - rul_output_mse: 2479.1941 - rul_output_root_mean_squared_error: 49.7915 - rul_output_msle: 0.2370 - val_loss: 18.6750 - val_status_output_loss: 0.0079 - val_rul_output_loss: 18.6671 - val_status_output_categorical_accuracy: 0.9968 - val_status_output_precision: 0.9968 - val_status_output_recall: 0.9968 - val_status_output_auc: 1.0000 - val_rul_output_mae: 18.6671 - val_rul_output_mse: 1509.5070 - val_rul_output_root_mean_squared_error: 38.8524 - val_rul_output_msle: 0.1461 - lr: 1.5259e-24\n",
            "Epoch 50/50\n",
            "441/441 [==============================] - 2s 5ms/step - loss: 31.3994 - status_output_loss: 0.0079 - rul_output_loss: 31.3914 - status_output_categorical_accuracy: 0.9969 - status_output_precision: 0.9969 - status_output_recall: 0.9969 - status_output_auc: 0.9999 - rul_output_mae: 31.3914 - rul_output_mse: 2494.6487 - rul_output_root_mean_squared_error: 49.9465 - rul_output_msle: 0.2433 - val_loss: 18.6761 - val_status_output_loss: 0.0078 - val_rul_output_loss: 18.6683 - val_status_output_categorical_accuracy: 0.9968 - val_status_output_precision: 0.9968 - val_status_output_recall: 0.9968 - val_status_output_auc: 1.0000 - val_rul_output_mae: 18.6683 - val_rul_output_mse: 1511.0460 - val_rul_output_root_mean_squared_error: 38.8722 - val_rul_output_msle: 0.1467 - lr: 7.6294e-26\n"
          ]
        }
      ]
    },
    {
      "cell_type": "code",
      "source": [
        "model.evaluate(x_train,[y_train1,y_train2])"
      ],
      "metadata": {
        "colab": {
          "base_uri": "https://localhost:8080/"
        },
        "id": "hI0_Xdsi1oWF",
        "outputId": "d644b2d2-6669-4a8b-cad2-f990cb8a7997"
      },
      "execution_count": null,
      "outputs": [
        {
          "output_type": "stream",
          "name": "stdout",
          "text": [
            "5508/5508 [==============================] - 13s 2ms/step - loss: 18.1567 - status_output_loss: 0.0075 - rul_output_loss: 18.1492 - status_output_categorical_accuracy: 0.9973 - status_output_precision: 0.9973 - status_output_recall: 0.9973 - status_output_auc: 1.0000 - rul_output_mae: 18.1492 - rul_output_mse: 1387.5217 - rul_output_root_mean_squared_error: 37.2495 - rul_output_msle: 0.1396\n"
          ]
        },
        {
          "output_type": "execute_result",
          "data": {
            "text/plain": [
              "[18.156696319580078,\n",
              " 0.007492078468203545,\n",
              " 18.149213790893555,\n",
              " 0.9972993731498718,\n",
              " 0.9973220229148865,\n",
              " 0.9972937107086182,\n",
              " 0.9999520182609558,\n",
              " 18.149213790893555,\n",
              " 1387.521728515625,\n",
              " 37.249454498291016,\n",
              " 0.139574334025383]"
            ]
          },
          "metadata": {},
          "execution_count": 44
        }
      ]
    },
    {
      "cell_type": "code",
      "source": [
        "print(tf.keras.__version__)"
      ],
      "metadata": {
        "colab": {
          "base_uri": "https://localhost:8080/"
        },
        "id": "nHoPdqye-_O1",
        "outputId": "0b324539-8345-4c31-a630-1167d2b7d186"
      },
      "execution_count": null,
      "outputs": [
        {
          "output_type": "stream",
          "name": "stdout",
          "text": [
            "2.9.0\n"
          ]
        }
      ]
    },
    {
      "cell_type": "code",
      "source": [
        "model.evaluate(x_test,[y_test1,y_test2])"
      ],
      "metadata": {
        "colab": {
          "base_uri": "https://localhost:8080/"
        },
        "id": "IbAhRNAjDFpy",
        "outputId": "ab81c857-148d-4091-afae-80abbf807f77"
      },
      "execution_count": null,
      "outputs": [
        {
          "output_type": "stream",
          "name": "stdout",
          "text": [
            "1377/1377 [==============================] - 4s 3ms/step - loss: 18.6761 - status_output_loss: 0.0078 - rul_output_loss: 18.6683 - status_output_categorical_accuracy: 0.9968 - status_output_precision: 0.9968 - status_output_recall: 0.9968 - status_output_auc: 1.0000 - rul_output_mae: 18.6683 - rul_output_mse: 1511.0463 - rul_output_root_mean_squared_error: 38.8722 - rul_output_msle: 0.1467\n"
          ]
        },
        {
          "output_type": "execute_result",
          "data": {
            "text/plain": [
              "[18.676116943359375,\n",
              " 0.007838474586606026,\n",
              " 18.668256759643555,\n",
              " 0.9968001246452332,\n",
              " 0.9968001246452332,\n",
              " 0.9968001246452332,\n",
              " 0.9999558329582214,\n",
              " 18.668256759643555,\n",
              " 1511.0462646484375,\n",
              " 38.87217712402344,\n",
              " 0.14666526019573212]"
            ]
          },
          "metadata": {},
          "execution_count": 46
        }
      ]
    },
    {
      "cell_type": "markdown",
      "source": [
        "# Loss curve evaluation metrics (RUL & Status)"
      ],
      "metadata": {
        "id": "4xBkFsRnFsFF"
      }
    },
    {
      "cell_type": "code",
      "source": [
        "import matplotlib.pyplot as plt\n",
        "plt.figure(figsize=(5,5))\n",
        "plt.title(\"Loss curve- Overall\")\n",
        "plt.plot(model_history.history[\"loss\"], label=\"Training\")\n",
        "plt.plot(model_history.history[\"val_loss\"], label=\"Testing\")\n",
        "plt.xlabel(\"Epochs\")\n",
        "plt.ylabel(\"value (log scale)\")\n",
        "plt.legend();"
      ],
      "metadata": {
        "colab": {
          "base_uri": "https://localhost:8080/",
          "height": 487
        },
        "id": "Kz10nRYFDFeI",
        "outputId": "bd16a388-83ce-4520-a522-c480d3a8fda7"
      },
      "execution_count": null,
      "outputs": [
        {
          "output_type": "display_data",
          "data": {
            "text/plain": [
              "<Figure size 500x500 with 1 Axes>"
            ],
            "image/png": "[encoded data removed]"
          },
          "metadata": {}
        }
      ]
    },
    {
      "cell_type": "code",
      "source": [
        "import matplotlib.pyplot as plt\n",
        "plt.figure(figsize=(5,5))\n",
        "plt.title(\"Loss curve- Status\")\n",
        "plt.plot(model_history.history[\"status_output_loss\"], label=\"Training\")\n",
        "plt.plot(model_history.history[\"val_status_output_loss\"], label=\"Testing\")\n",
        "plt.xlabel(\"Epochs\")\n",
        "plt.ylabel(\"value (log scale)\")\n",
        "plt.legend();"
      ],
      "metadata": {
        "colab": {
          "base_uri": "https://localhost:8080/",
          "height": 487
        },
        "id": "9HshuYFhDPIV",
        "outputId": "14620323-0281-4b0a-843c-3d2cc7fd1873"
      },
      "execution_count": null,
      "outputs": [
        {
          "output_type": "display_data",
          "data": {
            "text/plain": [
              "<Figure size 500x500 with 1 Axes>"
            ],
            "image/png": "[encoded data removed]"
          },
          "metadata": {}
        }
      ]
    },
    {
      "cell_type": "code",
      "source": [
        "import matplotlib.pyplot as plt\n",
        "plt.figure(figsize=(5,5))\n",
        "plt.title(\"Loss curve- RUL\")\n",
        "plt.plot(model_history.history[\"rul_output_loss\"], label=\"Training\")\n",
        "plt.plot(model_history.history[\"val_rul_output_loss\"], label=\"Testing\")\n",
        "plt.xlabel(\"Epochs\")\n",
        "plt.ylabel(\"value (log scale)\")\n",
        "plt.legend();"
      ],
      "metadata": {
        "colab": {
          "base_uri": "https://localhost:8080/",
          "height": 487
        },
        "id": "aLZIORqTDRwe",
        "outputId": "fbac0200-e008-4cde-d045-7f304a850357"
      },
      "execution_count": null,
      "outputs": [
        {
          "output_type": "display_data",
          "data": {
            "text/plain": [
              "<Figure size 500x500 with 1 Axes>"
            ],
            "image/png": "[encoded data removed]"
          },
          "metadata": {}
        }
      ]
    },
    {
      "cell_type": "markdown",
      "source": [],
      "metadata": {
        "id": "ZR4cAlpaFm2-"
      }
    },
    {
      "cell_type": "code",
      "source": [
        "from sklearn.metrics import confusion_matrix, classification_report\n",
        "import seaborn as sns\n",
        "y_pred=model.predict(x_test)\n",
        "y_pred_1= y_pred[0]\n",
        "y_pred_2=y_pred[1]\n",
        "y_pred_1= np.argmax(y_pred_1,axis=1)\n",
        "y_test1=np.argmax(y_test1,axis=1)\n",
        "print('status classification CM-test')\n",
        "sns.heatmap(confusion_matrix(y_test1,y_pred_1), annot=True)"
      ],
      "metadata": {
        "id": "RPU6I3XBDYts"
      },
      "execution_count": null,
      "outputs": []
    },
    {
      "cell_type": "code",
      "source": [
        "from sklearn.metrics import classification_report\n",
        "print(classification_report(y_test1,y_pred_1))"
      ],
      "metadata": {
        "colab": {
          "base_uri": "https://localhost:8080/"
        },
        "id": "1uXvI-yXDcsU",
        "outputId": "7be791ca-fd41-440b-e2e3-7b9af476d785"
      },
      "execution_count": null,
      "outputs": [
        {
          "output_type": "stream",
          "name": "stdout",
          "text": [
            "              precision    recall  f1-score   support\n",
            "\n",
            "           0       0.00      0.00      0.00         1\n",
            "           1       1.00      1.00      1.00     41208\n",
            "           2       0.96      0.99      0.98      2855\n",
            "\n",
            "    accuracy                           1.00     44064\n",
            "   macro avg       0.65      0.66      0.66     44064\n",
            "weighted avg       1.00      1.00      1.00     44064\n",
            "\n"
          ]
        },
        {
          "output_type": "stream",
          "name": "stderr",
          "text": [
            "/usr/local/lib/python3.10/dist-packages/sklearn/metrics/_classification.py:1344: UndefinedMetricWarning: Precision and F-score are ill-defined and being set to 0.0 in labels with no predicted samples. Use `zero_division` parameter to control this behavior.\n",
            "  _warn_prf(average, modifier, msg_start, len(result))\n",
            "/usr/local/lib/python3.10/dist-packages/sklearn/metrics/_classification.py:1344: UndefinedMetricWarning: Precision and F-score are ill-defined and being set to 0.0 in labels with no predicted samples. Use `zero_division` parameter to control this behavior.\n",
            "  _warn_prf(average, modifier, msg_start, len(result))\n",
            "/usr/local/lib/python3.10/dist-packages/sklearn/metrics/_classification.py:1344: UndefinedMetricWarning: Precision and F-score are ill-defined and being set to 0.0 in labels with no predicted samples. Use `zero_division` parameter to control this behavior.\n",
            "  _warn_prf(average, modifier, msg_start, len(result))\n"
          ]
        }
      ]
    },
    {
      "cell_type": "code",
      "source": [
        "y_test1=to_categorical(y_test1,num_classes=3)\n",
        "y_pred_1=to_categorical(y_pred_1,num_classes=3)"
      ],
      "metadata": {
        "id": "5qwfCKSTHGJ-"
      },
      "execution_count": null,
      "outputs": []
    },
    {
      "cell_type": "code",
      "source": [
        "from sklearn.metrics import roc_curve, auc\n",
        "from itertools import cycle\n",
        "fpr = dict()\n",
        "tpr = dict()\n",
        "roc_auc = dict()\n",
        "lw=2\n",
        "for i in range(3):\n",
        "    fpr[i], tpr[i], _ = roc_curve(y_test1.ravel(), y_pred_1.ravel())\n",
        "    roc_auc[i] = auc(fpr[i], tpr[i])\n",
        "colors = cycle(['blue', 'red', 'green'])\n",
        "for i, color in zip(range(3), colors):\n",
        "    plt.plot(fpr[i], tpr[i], color=color, lw=2,\n",
        "             label='ROC curve of class {0} (area = {1:0.2f})'\n",
        "             ''.format(i, roc_auc[i]))\n",
        "plt.plot([0, 1], [0, 1], 'k--', lw=lw)\n",
        "plt.xlim([-0.05, 1.0])\n",
        "plt.ylim([0.0, 1.05])\n",
        "plt.xlabel('False Positive Rate')\n",
        "plt.ylabel('True Positive Rate')\n",
        "plt.title('Receiver operating characteristic for multi-class data')\n",
        "plt.legend(loc=\"lower right\")\n",
        "plt.show()"
      ],
      "metadata": {
        "colab": {
          "base_uri": "https://localhost:8080/",
          "height": 472
        },
        "id": "_3EdgYxkFrRa",
        "outputId": "d9357164-aaf2-4ecc-e9ff-7ff89b135feb"
      },
      "execution_count": null,
      "outputs": [
        {
          "output_type": "display_data",
          "data": {
            "text/plain": [
              "<Figure size 640x480 with 1 Axes>"
            ],
            "image/png": "[encoded data removed]"
          },
          "metadata": {}
        }
      ]
    },
    {
      "cell_type": "code",
      "source": [
        "model.save('multitask model sml project.h5')"
      ],
      "metadata": {
        "id": "JZfs1t8jq7Nt"
      },
      "execution_count": null,
      "outputs": []
    }
  ]
}